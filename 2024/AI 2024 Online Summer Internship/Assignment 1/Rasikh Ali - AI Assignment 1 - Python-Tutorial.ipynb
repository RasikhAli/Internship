{
 "cells": [
  {
   "cell_type": "markdown",
   "metadata": {},
   "source": [
    "# AI 2024 Online Summer Internship"
   ]
  },
  {
   "cell_type": "markdown",
   "metadata": {},
   "source": [
    "### Name: Rasikh Ali\n",
    "### Email: rasikhali1234@gmail.com"
   ]
  },
  {
   "cell_type": "markdown",
   "metadata": {},
   "source": [
    "## Table of Contents\n",
    "\n",
    "### 1. [Assignment 1](#task1)\n",
    "   **1.1  [Data types and Variables](#vars)   \n",
    "        1.1.1  [Number types](#nums)   \n",
    "        1.1.2  [Comments](#comments)   \n",
    "        1.1.3  [Strings](#strings)<br>\n",
    "     1.2  [Decisions](#if-else)<br>\n",
    "        1.2.1  [Relational operators](#rel-ops)<br>\n",
    "     1.3  [Loops](#loops)<br>\n",
    "     1.4  [Lists](#lists)<br>\n",
    "     1.5  [Sets](#sets)<br>\n",
    "     1.6  [Dictionaries](#dict)<br>\n",
    "     1.7  [Tuples](#tuples)<br>\n",
    "     1.8  [Functions](#func)<br>\n",
    "     1.9  [Lambda functions](#lambda)<br>\n",
    "         1.9.1  [map function](#map)<br>\n",
    "         1.9.2  [filter function](#filter)<br>\n",
    "     1.10  [File I/O](#io)<br>**"
   ]
  },
  {
   "cell_type": "markdown",
   "metadata": {},
   "source": [
    "<a id=\"task1\"></a>\n",
    "# 1. Assignment 1\n",
    "\n",
    "[[ go back to the top ]](#Table-of-contents)\n",
    "\n",
    "For each Concept in the Initial Tutorial(for e.g., Variables, String, List, Tuple,\n",
    "Dictionary etc.) write down\n",
    "\n",
    "- Definition\n",
    " - Purpose\n",
    " - Importance\n",
    " - Applications\n",
    " - Strengths\n",
    " - Weaknesses\n",
    " - Suitable to Use\n",
    " - Given and Task\n",
    " - Input and Output\n",
    " - At least 3 – 5 Examples (Not Given in the Initial Tutorial)\n",
    " - At least 1 Example to Solve Real-world Problems\n",
    "\n",
    "Note: You can add Concepts in your Assignment Solution that are not mentioned in the Initial Tutorial"
   ]
  },
  {
   "cell_type": "markdown",
   "metadata": {},
   "source": [
    "<a id=\"vars\"></a>\n",
    "## 1.1 Data types and variables\n",
    "\n",
    "[[ go back to the top ]](#Table-of-contents)\n",
    "\n",
    "When your program carries out computations, you will want to store values so that you can use them later. In a Python program, you use variables to store values. In this section, you will learn how to define and use variables.\n",
    "\n",
    "> A **variable** is a storage location in a computer program. Each variable has a *name* and holds a *value*.\n",
    "\n",
    "You use the **assignment statement** to place a value into a variable. Here is an example:"
   ]
  },
  {
   "cell_type": "code",
   "execution_count": 1,
   "metadata": {},
   "outputs": [],
   "source": [
    "numberOfBooks = 10"
   ]
  },
  {
   "cell_type": "markdown",
   "metadata": {},
   "source": [
    "The left-hand side of an assignment statement consists of a variable. The right-hand side is an expression that has a value. That value is stored in the variable. The first time a variable is assigned a value, the variable is created and initialized\n",
    "with that value. After a variable has been defined, it can be used in other statements. For example,"
   ]
  },
  {
   "cell_type": "code",
   "execution_count": 2,
   "metadata": {},
   "outputs": [
    {
     "name": "stdout",
     "output_type": "stream",
     "text": [
      "10\n"
     ]
    }
   ],
   "source": [
    "print(numberOfBooks)"
   ]
  },
  {
   "cell_type": "markdown",
   "metadata": {},
   "source": [
    "will print the value stored in the variable numberOfBooks. If an existing variable is assigned a new value, that value replaces the previous contents of the variable. For example,"
   ]
  },
  {
   "cell_type": "code",
   "execution_count": 3,
   "metadata": {},
   "outputs": [
    {
     "name": "stdout",
     "output_type": "stream",
     "text": [
      "15\n"
     ]
    }
   ],
   "source": [
    "numberOfBooks = 15\n",
    "print(numberOfBooks)"
   ]
  },
  {
   "cell_type": "markdown",
   "metadata": {},
   "source": [
    "changes the value contained in variable numberOfBooks from 5 to 10.\n",
    "\n",
    "Note that in Python, it is not necessary to define what type of value they will store. The type of variable will be determined after the value is assigned to it. For example,   "
   ]
  },
  {
   "cell_type": "code",
   "execution_count": 4,
   "metadata": {},
   "outputs": [
    {
     "name": "stdout",
     "output_type": "stream",
     "text": [
      "15\n",
      "120.0\n",
      "Artificial Intelligence\n"
     ]
    }
   ],
   "source": [
    "numberOfBooks = 15                   #integer type variable\n",
    "counter = 120.00                     #float type variable\n",
    "subject = \"Artificial Intelligence\"  #string type variable\n",
    "\n",
    "print(numberOfBooks)\n",
    "print(counter)\n",
    "print(subject)"
   ]
  },
  {
   "cell_type": "markdown",
   "metadata": {},
   "source": [
    "> **Note that a variable must be created and initialized before it can be used for the first time.**\n",
    "For example, if the variable **b** has not been created and the following code is run, we will get an error saying that *b has not yet been created*.<br>\n",
    ">`a = b + 100`"
   ]
  },
  {
   "cell_type": "markdown",
   "metadata": {},
   "source": [
    "<a id=\"nums\"></a>\n",
    "### 1.1.1 Number types\n",
    "\n",
    "[[ go back to the top ]](#Table-of-contents)\n",
    "\n",
    "In Python, there are several different types of numbers. An **integer** value is a whole number without a fractional part. For example, there must be an integer number of books in any pack of books — you cannot have a fraction of a book. In Python, this type is called **int**. \n",
    "\n",
    "When a fractional part is required (such as in the number 0.355), we use floating-point numbers, which are called **float** in Python. When a value such as 6 or 0.355 occurs in a Python program, it is called a **number literal**. If a number literal has a decimal point, it is a floating-point number; otherwise, it is an integer. For example, "
   ]
  },
  {
   "cell_type": "code",
   "execution_count": 5,
   "metadata": {},
   "outputs": [
    {
     "data": {
      "text/plain": [
       "5"
      ]
     },
     "execution_count": 5,
     "metadata": {},
     "output_type": "execute_result"
    }
   ],
   "source": [
    "5     #integer"
   ]
  },
  {
   "cell_type": "code",
   "execution_count": 6,
   "metadata": {},
   "outputs": [
    {
     "data": {
      "text/plain": [
       "17"
      ]
     },
     "execution_count": 6,
     "metadata": {},
     "output_type": "execute_result"
    }
   ],
   "source": [
    "5 + 12  #integer"
   ]
  },
  {
   "cell_type": "code",
   "execution_count": 7,
   "metadata": {},
   "outputs": [
    {
     "data": {
      "text/plain": [
       "11.02"
      ]
     },
     "execution_count": 7,
     "metadata": {},
     "output_type": "execute_result"
    }
   ],
   "source": [
    "5.9 + 5.12   #floating-point"
   ]
  },
  {
   "cell_type": "code",
   "execution_count": 8,
   "metadata": {},
   "outputs": [
    {
     "data": {
      "text/plain": [
       "3125"
      ]
     },
     "execution_count": 8,
     "metadata": {},
     "output_type": "execute_result"
    }
   ],
   "source": [
    "5 ** 5    #exponent"
   ]
  },
  {
   "cell_type": "markdown",
   "metadata": {},
   "source": [
    "<a id=\"comments\"></a>\n",
    "### 1.1.2 Comments\n",
    "\n",
    "[[ go back to the top ]](#Table-of-contents)\n",
    "\n",
    "Comments are the explanations of what code is doing. As your programs get more complex, you should add comments, explanations for human readers of your code. For example, here is a comment that explains the value used in a variable:"
   ]
  },
  {
   "cell_type": "code",
   "execution_count": 9,
   "metadata": {},
   "outputs": [],
   "source": [
    "numberOfBooks = 15            #integer type variable"
   ]
  },
  {
   "cell_type": "markdown",
   "metadata": {},
   "source": [
    "The interpreter does not execute comments at all. It ignores everything from a # delimiter to the end of the line."
   ]
  },
  {
   "cell_type": "markdown",
   "metadata": {},
   "source": [
    "<a id=\"strings\"></a>\n",
    "### 1.1.3 Strings\n",
    "\n",
    "[[ go back to the top ]](#Table-of-contents)\n",
    "\n",
    "Programs are also used to process text, not just numbers. Text consists of characters: letters, numbers, punctuation, spaces, and so on. A string is a sequence of characters. For example, the string `\"Hello\"` is a sequence of five characters.\n",
    "\n",
    "A string can be stored in a variable as:"
   ]
  },
  {
   "cell_type": "code",
   "execution_count": 10,
   "metadata": {},
   "outputs": [],
   "source": [
    "userGreeting = \"Hello User\""
   ]
  },
  {
   "cell_type": "markdown",
   "metadata": {},
   "source": [
    "and later accessed when needed just as numerical values can be:"
   ]
  },
  {
   "cell_type": "code",
   "execution_count": 11,
   "metadata": {},
   "outputs": [
    {
     "name": "stdout",
     "output_type": "stream",
     "text": [
      "Hello User\n"
     ]
    }
   ],
   "source": [
    "print(userGreeting)"
   ]
  },
  {
   "cell_type": "markdown",
   "metadata": {},
   "source": [
    "A **string literal** denotes a particular string (such as \"Hello\"), just as a number literal (such as 2) denotes a particular number. In Python, string literals are specified by enclosing a sequence of characters within a matching pair of either single or double quotes."
   ]
  },
  {
   "cell_type": "code",
   "execution_count": 12,
   "metadata": {},
   "outputs": [
    {
     "name": "stdout",
     "output_type": "stream",
     "text": [
      "This is a string. This aswell. Also this\n"
     ]
    }
   ],
   "source": [
    "print(\"This is a string.\", 'This aswell.', \"\"\"Also this\"\"\")"
   ]
  },
  {
   "cell_type": "markdown",
   "metadata": {},
   "source": [
    "By allowing both types of delimiters, Python makes it easy to include an apostrophe or quotation mark within a string."
   ]
  },
  {
   "cell_type": "code",
   "execution_count": 13,
   "metadata": {},
   "outputs": [
    {
     "name": "stdout",
     "output_type": "stream",
     "text": [
      "He said \"Hello Ali\"\n"
     ]
    }
   ],
   "source": [
    "message = 'He said \"Hello Ali\"'\n",
    "print(message)"
   ]
  },
  {
   "cell_type": "markdown",
   "metadata": {},
   "source": [
    "The number of characters in a string is called the *length* of the string. For example, the length of \"Harry\" is 5. You can compute the length of a string using Python’s `len` function:"
   ]
  },
  {
   "cell_type": "code",
   "execution_count": 14,
   "metadata": {},
   "outputs": [
    {
     "name": "stdout",
     "output_type": "stream",
     "text": [
      "10\n"
     ]
    }
   ],
   "source": [
    "length = len(\"Rasikh Ali\")    # length is 6\n",
    "print(length)"
   ]
  },
  {
   "cell_type": "markdown",
   "metadata": {},
   "source": [
    "A string of length 0 is called the *empty string*. It contains no characters and is written as \"\" or ''.\n",
    "\n",
    "### Concatenation and repetition\n",
    "\n",
    "Given two strings, such as \"Harry\" and \"Morgan\", you can **concatenate** them to one long string. The result consists of all characters in the first string, followed by all characters in the second string. In Python, you use the `+` operator to concatenate two strings. For example,"
   ]
  },
  {
   "cell_type": "code",
   "execution_count": 15,
   "metadata": {},
   "outputs": [
    {
     "name": "stdout",
     "output_type": "stream",
     "text": [
      "Rasikh Ali\n"
     ]
    }
   ],
   "source": [
    "firstName = \"Rasikh\"\n",
    "lastName = \"Ali\"\n",
    "\n",
    "name = firstName + \" \" + lastName\n",
    "print(name)"
   ]
  },
  {
   "cell_type": "markdown",
   "metadata": {},
   "source": [
    "Note how we have concatenated a space between the two strings in the assignment to the **name** variable above.\n",
    "\n",
    "When the expression to the left or the right of a + operator is a string, the other one must also be a string or a syntax error will occur. You cannot concatenate a string with a numerical value.\n",
    "\n",
    "You can also produce a string that is the result of repeating a string multiple times. For example, suppose you need to print a dashed line. Instead of specifying a literal string with 50 dashes, you can use the `*` operator to create a string that is comprised of the string \"-\" repeated 50 times. For example,"
   ]
  },
  {
   "cell_type": "code",
   "execution_count": 16,
   "metadata": {},
   "outputs": [
    {
     "name": "stdout",
     "output_type": "stream",
     "text": [
      "<=><=><=><=><=><=><=><=><=><=><=><=><=><=><=><=><=><=><=><=><=><=><=><=><=><=><=><=><=><=>\n"
     ]
    }
   ],
   "source": [
    "dashes = \"<=>\" * 30\n",
    "print(dashes)"
   ]
  },
  {
   "cell_type": "markdown",
   "metadata": {},
   "source": [
    "A string of any length can be repeated using the `*` operator. For example, the following statements repeat the string \"Hello\" five times:"
   ]
  },
  {
   "cell_type": "code",
   "execution_count": 17,
   "metadata": {},
   "outputs": [
    {
     "name": "stdout",
     "output_type": "stream",
     "text": [
      "Testing Message...Testing Message...Testing Message...Testing Message...Testing Message...\n"
     ]
    }
   ],
   "source": [
    "message = \"Testing Message...\"\n",
    "print(message * 5)"
   ]
  },
  {
   "cell_type": "markdown",
   "metadata": {},
   "source": [
    "### Strings and characters\n",
    "\n",
    "Strings are sequences of *Unicode* characters. You can access the individual characters of a string based on their position within the string. This position is called the *index* of the character. The first character has index 0, the second has index 1, and so on. For example, in the string \"Harry\", \n",
    "\n",
    " - the character *H* is at index 0, \n",
    " - the character *a* is at index 1, \n",
    " - the character *r* is at index 2, \n",
    " - the character *r* is at index 3, \n",
    " - and the character *y* is at index 4. \n",
    " \n",
    "Note that there is **no character** at index **5**.\n",
    "\n",
    "An individual character is accessed using a special *subscript notation* in which the position is enclosed within square\n",
    "brackets **[ ]**. For example, if the variable name is defined as:"
   ]
  },
  {
   "cell_type": "code",
   "execution_count": 18,
   "metadata": {},
   "outputs": [],
   "source": [
    "name = \"Rasikh\""
   ]
  },
  {
   "cell_type": "markdown",
   "metadata": {},
   "source": [
    "the statements:"
   ]
  },
  {
   "cell_type": "code",
   "execution_count": 19,
   "metadata": {},
   "outputs": [
    {
     "name": "stdout",
     "output_type": "stream",
     "text": [
      "R h\n"
     ]
    }
   ],
   "source": [
    "first = name[0]\n",
    "last = name[5]\n",
    "print(first, last)"
   ]
  },
  {
   "cell_type": "markdown",
   "metadata": {},
   "source": [
    "extract two different characters from the string. The first statement extracts the first character as the string \"H\" and stores it in variable `first`. The second statement extracts the character at position 4, which in this case is the last character, and stores it in variable `last`.\n",
    "\n",
    "The index value must be within the valid range of character positions or an *index out of range* exception will be generated at run time. \n",
    "\n",
    "By using this subscript notation, we can also extract a *substring* from a string. For example,"
   ]
  },
  {
   "cell_type": "code",
   "execution_count": 20,
   "metadata": {},
   "outputs": [
    {
     "name": "stdout",
     "output_type": "stream",
     "text": [
      "asik\n"
     ]
    }
   ],
   "source": [
    "middle = name[1:5]\n",
    "print(middle)"
   ]
  },
  {
   "cell_type": "markdown",
   "metadata": {},
   "source": [
    "We get the string \"arr\", starting from index 1 and up to index 3. That is, it *excludes the last index 4*."
   ]
  },
  {
   "cell_type": "markdown",
   "metadata": {},
   "source": [
    "### Updating strings"
   ]
  },
  {
   "cell_type": "markdown",
   "metadata": {},
   "source": [
    "Just like other variables, the value in a string variable can be changed or replaced by assigning the string variable a new string value. For example, "
   ]
  },
  {
   "cell_type": "code",
   "execution_count": 21,
   "metadata": {},
   "outputs": [
    {
     "name": "stdout",
     "output_type": "stream",
     "text": [
      "Rasikh Ali\n"
     ]
    }
   ],
   "source": [
    "name = \"Rasikh Ali\"\n",
    "print(name)"
   ]
  },
  {
   "cell_type": "markdown",
   "metadata": {},
   "source": [
    "This will replace the earlier value \"Harry\" by \"John Doe\" in the **name** string variable.\n",
    "\n",
    "> Note that a value stored in a string variable can only be replaced with another string literal.  \n",
    "\n",
    "We can also use the substring operation and the `+` operator to replace a string value as follows: "
   ]
  },
  {
   "cell_type": "code",
   "execution_count": 22,
   "metadata": {},
   "outputs": [
    {
     "name": "stdout",
     "output_type": "stream",
     "text": [
      "Updated string:  Testing Python\n"
     ]
    }
   ],
   "source": [
    "originalString = \"Testing Message!\"\n",
    "updatedString = originalString[:8] + \"Python\"\n",
    "\n",
    "print(\"Updated string: \", updatedString)"
   ]
  },
  {
   "cell_type": "markdown",
   "metadata": {},
   "source": [
    "This will replace the \"Hello World!\" placed in the variable **originalString** by taking a substring consisting of the first 6 characters, including the space character, and adding this substring with another string \"Python\" to produce the **updatedString** \"Hello Python\"."
   ]
  },
  {
   "cell_type": "markdown",
   "metadata": {},
   "source": [
    "### String methods\n",
    "\n",
    "Python strings are created as **objects**, that is, they have values as well as certain behaviors. The value can be simple, such as a string, or the number of characters stored in a string. The behavior of an object is given through its **methods**. A method, like a function, is a collection of programming instructions that carry out a particular task.  \n",
    "\n",
    "There are many built-in methods that can be applied to strings in Python. For example, you can apply the upper method to any string, like this:"
   ]
  },
  {
   "cell_type": "code",
   "execution_count": 23,
   "metadata": {},
   "outputs": [
    {
     "name": "stdout",
     "output_type": "stream",
     "text": [
      "RASIKH ALI\n"
     ]
    }
   ],
   "source": [
    "name = \"Rasikh Ali\"\n",
    "uppercaseName = name.upper() # Sets uppercaseName to \"JOHN SMITH\"\n",
    "print(uppercaseName)"
   ]
  },
  {
   "cell_type": "markdown",
   "metadata": {},
   "source": [
    "Note that the method name follows the object, and that a dot (.) separates the object and method name.\n",
    "\n",
    "There is another string method called lower that yields the lowercase version of a string:"
   ]
  },
  {
   "cell_type": "code",
   "execution_count": 24,
   "metadata": {},
   "outputs": [
    {
     "name": "stdout",
     "output_type": "stream",
     "text": [
      "rasikh ali\n"
     ]
    }
   ],
   "source": [
    "print(name.lower()) # Prints john smith"
   ]
  },
  {
   "cell_type": "markdown",
   "metadata": {},
   "source": [
    "### Deleting strings\n",
    "\n",
    "To delete a string, we will use a function called `del` as follows:"
   ]
  },
  {
   "cell_type": "code",
   "execution_count": 25,
   "metadata": {},
   "outputs": [],
   "source": [
    "del name"
   ]
  },
  {
   "cell_type": "markdown",
   "metadata": {},
   "source": [
    "This deletes the object reference placed in the **name** variable. Now, any attempt to access this variable will result in an error:"
   ]
  },
  {
   "cell_type": "code",
   "execution_count": 26,
   "metadata": {},
   "outputs": [
    {
     "ename": "NameError",
     "evalue": "name 'name' is not defined",
     "output_type": "error",
     "traceback": [
      "\u001b[1;31m---------------------------------------------------------------------------\u001b[0m",
      "\u001b[1;31mNameError\u001b[0m                                 Traceback (most recent call last)",
      "Cell \u001b[1;32mIn[26], line 1\u001b[0m\n\u001b[1;32m----> 1\u001b[0m \u001b[38;5;28mprint\u001b[39m(\u001b[43mname\u001b[49m)\n",
      "\u001b[1;31mNameError\u001b[0m: name 'name' is not defined"
     ]
    }
   ],
   "source": [
    "print(name)    #error: name has been deleted, so it is no longer defined"
   ]
  },
  {
   "cell_type": "markdown",
   "metadata": {},
   "source": [
    "Note that we can reuse string variables after applying the function `del` by assigning them new values again:"
   ]
  },
  {
   "cell_type": "code",
   "execution_count": 27,
   "metadata": {},
   "outputs": [
    {
     "name": "stdout",
     "output_type": "stream",
     "text": [
      "Rasikh Ali\n"
     ]
    }
   ],
   "source": [
    "name = \"Rasikh Ali\"\n",
    "print(name)"
   ]
  },
  {
   "cell_type": "markdown",
   "metadata": {},
   "source": [
    "Now, we can reuse the variable **name** in the rest of the code."
   ]
  },
  {
   "cell_type": "markdown",
   "metadata": {},
   "source": [
    "### Finding characters in a string\n",
    "\n",
    "We can use the **in** operator to find whether any character exists in a string. This operator will return **True** if the character exists at any location in a string, **False** otherwise."
   ]
  },
  {
   "cell_type": "code",
   "execution_count": 28,
   "metadata": {},
   "outputs": [
    {
     "name": "stdout",
     "output_type": "stream",
     "text": [
      "True\n",
      "False\n",
      "True\n"
     ]
    }
   ],
   "source": [
    "name = \"Rasikh Ali\"\n",
    "\n",
    "print('s' in name)\n",
    "print('S' in name)\n",
    "\n",
    "exists = 'i' in name\n",
    "print(exists)"
   ]
  },
  {
   "cell_type": "markdown",
   "metadata": {},
   "source": [
    "Note how we have used variable **exists** to get the output of the **in** operator and store it in the **exists** variable. We can also use the logical operator **not** to reverse the output of the **in** operator. That is, it will return **True** if the specified character does not exist in the string, and **False** otherwise:"
   ]
  },
  {
   "cell_type": "code",
   "execution_count": 29,
   "metadata": {},
   "outputs": [
    {
     "name": "stdout",
     "output_type": "stream",
     "text": [
      "True\n",
      "False\n"
     ]
    }
   ],
   "source": [
    "print('B' not in name)\n",
    "print('h' not in name)"
   ]
  },
  {
   "cell_type": "markdown",
   "metadata": {},
   "source": [
    "As we can see from the output above, both the characters *B* and *u* do not exist in the string literal \"John Smith\", so we get the output of **True** in both of above statements. "
   ]
  },
  {
   "cell_type": "markdown",
   "metadata": {},
   "source": [
    "### Formatting strings\n",
    "\n",
    "We may use the special string **substitution** placeholders, or **format specifiers** while working with strings. Two format specifiers are **%s** that is used to replace a string, and **%d** that is used to replace an integer with strings. For example:"
   ]
  },
  {
   "cell_type": "code",
   "execution_count": 30,
   "metadata": {},
   "outputs": [
    {
     "name": "stdout",
     "output_type": "stream",
     "text": [
      "My name is Rasikh Ali and I am 23 years old\n"
     ]
    }
   ],
   "source": [
    "print(\"My name is %s and I am %d years old\" % (\"Rasikh Ali\", 23))"
   ]
  },
  {
   "cell_type": "markdown",
   "metadata": {},
   "source": [
    "In the above example, **%s** placeholder is replaced with the string **John Smith**, and **%d** placeholder is replaced with the number **35**.\n",
    "> Placeholders must be correctly specified and the values must be correctly defined, otherwise errors will be reported. For example, in the above example, **%s** would need a matching string value to be defined. Any other value would be an error.\n",
    "\n",
    "For example, the below code produces an error as **%d** is being replaced with a value that is a string:"
   ]
  },
  {
   "cell_type": "code",
   "execution_count": 31,
   "metadata": {},
   "outputs": [
    {
     "ename": "TypeError",
     "evalue": "%d format: a number is required, not str",
     "output_type": "error",
     "traceback": [
      "\u001b[1;31m---------------------------------------------------------------------------\u001b[0m",
      "\u001b[1;31mTypeError\u001b[0m                                 Traceback (most recent call last)",
      "Cell \u001b[1;32mIn[31], line 1\u001b[0m\n\u001b[1;32m----> 1\u001b[0m \u001b[38;5;28mprint\u001b[39m(\u001b[38;5;124;43m\"\u001b[39;49m\u001b[38;5;124;43mMy name is \u001b[39;49m\u001b[38;5;132;43;01m%s\u001b[39;49;00m\u001b[38;5;124;43m and I am \u001b[39;49m\u001b[38;5;132;43;01m%d\u001b[39;49;00m\u001b[38;5;124;43m years old\u001b[39;49m\u001b[38;5;124;43m\"\u001b[39;49m\u001b[43m \u001b[49m\u001b[38;5;241;43m%\u001b[39;49m\u001b[43m \u001b[49m\u001b[43m(\u001b[49m\u001b[38;5;241;43m23\u001b[39;49m\u001b[43m,\u001b[49m\u001b[43m \u001b[49m\u001b[38;5;124;43m\"\u001b[39;49m\u001b[38;5;124;43mRasikh Ali\u001b[39;49m\u001b[38;5;124;43m\"\u001b[39;49m\u001b[43m)\u001b[49m)\n",
      "\u001b[1;31mTypeError\u001b[0m: %d format: a number is required, not str"
     ]
    }
   ],
   "source": [
    "print(\"My name is %s and I am %d years old\" % (23, \"Rasikh Ali\"))   #error: %d expects a number!"
   ]
  },
  {
   "cell_type": "markdown",
   "metadata": {},
   "source": [
    "<a id=\"if-else\"></a>\n",
    "## 1.2 Decisions\n",
    "\n",
    "[[ go back to the top ]](#Table-of-contents)\n",
    "\n",
    "The **if** statement is used to implement a decision. When a condition is fulfilled, one set of statements is executed. Otherwise, another set of statements is executed.\n",
    "\n",
    "Some constructs in Python are **compound statements**, which span multiple lines and consist of a *header* and a **statement block**. The **if** statement is an example of a compound statement.\n",
    "\n",
    "Let's take an example that whenever at a store, if the customer's total sales are more than **100**, the store would give a discount of **5%** on the total sales amount. The printed receipt for a customer reflects this discount. If the customer's total sales are less than **100**, the store does not give any discount.\n",
    "\n",
    "We will write the corresponding code in Python as follows:"
   ]
  },
  {
   "cell_type": "code",
   "execution_count": 32,
   "metadata": {},
   "outputs": [
    {
     "name": "stdout",
     "output_type": "stream",
     "text": [
      "You sales are less than 100, there are no discounts\n"
     ]
    }
   ],
   "source": [
    "totalSales = 50\n",
    "if totalSales > 100.0 :     # The header ends in a colon.\n",
    "    discount = totalSales * 0.05     # Lines in the block are indented to the same level\n",
    "    totalSales = totalSales - discount\n",
    "    print(\"You received a discount of\", discount)\n",
    "else:\n",
    "    print(\"You sales are less than 100, there are no discounts\")"
   ]
  },
  {
   "cell_type": "markdown",
   "metadata": {},
   "source": [
    "Compound statements require a colon (:) at the end of the header. The statement block is a group of one or more statements, all of which are indented to the same indentation level. A statement block begins on the line following the header and ends\n",
    "at the first statement indented less than the first statement in the block. You can use any number of spaces to indent statements within a block, but all statements within the block must have the same indentation level. Note that comments are not statements and thus can be indented to any level."
   ]
  },
  {
   "cell_type": "markdown",
   "metadata": {},
   "source": [
    "<a id=\"rel-ops\"></a>\n",
    "## 1.2.1 Relational operators\n",
    "\n",
    "[[ go back to the top ]](#Table-of-contents)\n",
    "\n",
    "Every if statement contains a condition. In many cases, the condition involves comparing two values. For example, in the previous examples we tested `totalSales > 100.0`. The comparison **>** is called a **relational operator**. Python has six relational operators. \n",
    "\n",
    " - **>**  (Greater-than)\n",
    " - **<**  (Less-than)\n",
    " - **>=** (Greater-than or equals to)\n",
    " - **<=** (Less-than or equals to)\n",
    " - **==** (Equals to)\n",
    " - **!=** (Not equals to)\n",
    " \n",
    "All relational operators return **True** if the comparison results in true, otherwise **False**. We can compare numbers and strings using the relational operators. For example,"
   ]
  },
  {
   "cell_type": "code",
   "execution_count": 33,
   "metadata": {},
   "outputs": [
    {
     "name": "stdout",
     "output_type": "stream",
     "text": [
      "True\n"
     ]
    }
   ],
   "source": [
    "print(1 < 3)"
   ]
  },
  {
   "cell_type": "code",
   "execution_count": 34,
   "metadata": {},
   "outputs": [
    {
     "name": "stdout",
     "output_type": "stream",
     "text": [
      "True\n"
     ]
    }
   ],
   "source": [
    "print(15 <= 23)"
   ]
  },
  {
   "cell_type": "code",
   "execution_count": 35,
   "metadata": {},
   "outputs": [
    {
     "data": {
      "text/plain": [
       "False"
      ]
     },
     "execution_count": 35,
     "metadata": {},
     "output_type": "execute_result"
    }
   ],
   "source": [
    "\"Rasikh Ali\" == \"Ali Rasikh\""
   ]
  },
  {
   "cell_type": "code",
   "execution_count": 36,
   "metadata": {},
   "outputs": [
    {
     "data": {
      "text/plain": [
       "True"
      ]
     },
     "execution_count": 36,
     "metadata": {},
     "output_type": "execute_result"
    }
   ],
   "source": [
    "\"Rasikh Ali\" != \"Ali Rasikh\""
   ]
  },
  {
   "cell_type": "markdown",
   "metadata": {},
   "source": [
    "We can also use **Boolean operators** to combine and compare multiple conditions at the same time. There are three **Boolean operators: and, or,** and **not**.\n",
    "\n",
    "The condition of the test has two parts, joined by the **and** operator. Each part is a Boolean value that can be true or false. The combined expression is true if both individual expressions are true. If either one of the expressions is false, then the result is also false."
   ]
  },
  {
   "cell_type": "code",
   "execution_count": 37,
   "metadata": {},
   "outputs": [
    {
     "data": {
      "text/plain": [
       "False"
      ]
     },
     "execution_count": 37,
     "metadata": {},
     "output_type": "execute_result"
    }
   ],
   "source": [
    "(1 == 1) and (5 < 2)"
   ]
  },
  {
   "cell_type": "markdown",
   "metadata": {},
   "source": [
    "For the **or** operator, the combined expression is true if any individual expression is true. If neither one of the expressions is true, then the result is also false."
   ]
  },
  {
   "cell_type": "code",
   "execution_count": 38,
   "metadata": {},
   "outputs": [
    {
     "data": {
      "text/plain": [
       "False"
      ]
     },
     "execution_count": 38,
     "metadata": {},
     "output_type": "execute_result"
    }
   ],
   "source": [
    "(1 < 0) or (2 > 3)"
   ]
  },
  {
   "cell_type": "markdown",
   "metadata": {},
   "source": [
    "The **not** operator simply inverts the result - that is if the result of some comparison is true, it returns false."
   ]
  },
  {
   "cell_type": "code",
   "execution_count": 39,
   "metadata": {},
   "outputs": [
    {
     "data": {
      "text/plain": [
       "True"
      ]
     },
     "execution_count": 39,
     "metadata": {},
     "output_type": "execute_result"
    }
   ],
   "source": [
    "not(1 > 2)"
   ]
  },
  {
   "cell_type": "markdown",
   "metadata": {},
   "source": [
    "We can use these operators while writing if statements:"
   ]
  },
  {
   "cell_type": "code",
   "execution_count": 40,
   "metadata": {},
   "outputs": [
    {
     "name": "stdout",
     "output_type": "stream",
     "text": [
      "Save\n"
     ]
    }
   ],
   "source": [
    "a = 100\n",
    "b = 200\n",
    "\n",
    "if a < b or b > 100:\n",
    "    print(\"Save\")\n",
    "else:\n",
    "    print(\"Cancel\")"
   ]
  },
  {
   "cell_type": "markdown",
   "metadata": {},
   "source": [
    "<a id=\"loops\"></a>\n",
    "## 1.3 Loops\n",
    "\n",
    "[[ go back to the top ]](#Table-of-contents)\n",
    "\n",
    "In Python, the **while** statement implements a repetition. It has the form:\n",
    "\n",
    "`while condition :\n",
    "    statements`\n",
    "    \n",
    "As long as the condition remains true, the statements inside the while statement are executed. This statement block is called the body of the while statement. For example,"
   ]
  },
  {
   "cell_type": "code",
   "execution_count": 41,
   "metadata": {},
   "outputs": [
    {
     "name": "stdout",
     "output_type": "stream",
     "text": [
      "1\n",
      "2\n",
      "3\n",
      "4\n",
      "5\n",
      "6\n",
      "7\n",
      "8\n",
      "9\n",
      "10\n"
     ]
    }
   ],
   "source": [
    "timer = 1\n",
    "while timer <= 10 :\n",
    "    print(timer)\n",
    "    timer = timer + 1"
   ]
  },
  {
   "cell_type": "markdown",
   "metadata": {},
   "source": [
    "Often, we will need to visit each character in a string. \n",
    "\n",
    "The **for** loop makes this process particularly easy to program. For example, suppose we want to print a string, with one character per line. We cannot simply print the string using the print function. Instead, we need to iterate over the characters in the string and print each character individually. Here is how you use the for loop to accomplish this task:"
   ]
  },
  {
   "cell_type": "code",
   "execution_count": 42,
   "metadata": {},
   "outputs": [
    {
     "name": "stdout",
     "output_type": "stream",
     "text": [
      "L\n",
      "a\n",
      "h\n",
      "o\n",
      "r\n",
      "e\n"
     ]
    }
   ],
   "source": [
    "cityName = \"Lahore\"\n",
    "for letter in cityName :\n",
    "    print(letter)"
   ]
  },
  {
   "cell_type": "markdown",
   "metadata": {},
   "source": [
    "Loops that iterate over a range of integer values are very common. To simplify the creation of such loops, Python provides the **range** function for generating a sequence of integers that can be used with the for loop. The loop:"
   ]
  },
  {
   "cell_type": "code",
   "execution_count": 43,
   "metadata": {},
   "outputs": [
    {
     "name": "stdout",
     "output_type": "stream",
     "text": [
      "1\n",
      "2\n",
      "3\n",
      "4\n",
      "5\n",
      "6\n",
      "7\n",
      "8\n",
      "9\n"
     ]
    }
   ],
   "source": [
    "for i in range(1, 10) :        # i = 1, 2, 3, ..., 9\n",
    "    print(i)"
   ]
  },
  {
   "cell_type": "markdown",
   "metadata": {},
   "source": [
    "prints the sequential values from 1 to 9. The range function generates a sequence of values based on its arguments. The first argument of the range function is the first value in the sequence. Values are included in the sequence while they are less than the second argument. \n",
    "\n",
    "> Note that the ending value (the second argument to the range function) is not included in the output sequence.\n",
    "\n",
    "Another example of calculating the factorial of a number using the **for** loop may be written as:"
   ]
  },
  {
   "cell_type": "code",
   "execution_count": 44,
   "metadata": {},
   "outputs": [
    {
     "name": "stdout",
     "output_type": "stream",
     "text": [
      "120\n"
     ]
    }
   ],
   "source": [
    "fact = 1\n",
    "N = 5\n",
    "for i in range (1, N + 1) :\n",
    "    fact *= i    #same as fact = fact * i\n",
    "\n",
    "print(fact)"
   ]
  },
  {
   "cell_type": "markdown",
   "metadata": {},
   "source": [
    "<a id=\"lists\"></a>\n",
    "## 1.4 Lists\n",
    "\n",
    "[[ go back to the top ]](#Table-of-contents)\n",
    "\n",
    "Lists are the fundamental mechanism in Python for collecting multiple values. Lists are indispensable when multiple values are being stored and there are many operations that are being performed on them.\n",
    "\n",
    "As an example, suppose that we are storing scores obtained by students in a quiz. Suppose that there are 10 students. To store these scores, we would need to create 10 individual variables. Lets also suppose that we need to find the highest quiz score among all scores. We would need to write a function, say **max()** that finds the highest score among all variables. Now let's extend this problem to 100 students. There are now 100 scores that are needed to be stored. We would need to rewrite the **max()** function so that now it handles 100 scores. This is not a good program as it does not extend or scale appropriately. Also, to make it work effectively with data as the data size increases, we would need to make major modifications in this **max()** function. \n",
    "\n",
    "One way to remedy this scenario is by using a *List*. We now take a look on how to create and use Lists.\n",
    "\n",
    "> a list is an ordered collection of data that is referred to by a single variable name. (in most other computer languages, the same concept is called an array.)\n",
    "\n",
    ">Lists are objects in Python. They provide many useful methods for manipulating list elements.\n",
    "\n",
    "> Whenever we are looking to work with multiple values, we should use Lists.\n",
    "\n",
    "### Creating lists\n",
    "\n",
    "We create a list and specify the initial values that are to be stored in the new list: "
   ]
  },
  {
   "cell_type": "code",
   "execution_count": 45,
   "metadata": {},
   "outputs": [
    {
     "name": "stdout",
     "output_type": "stream",
     "text": [
      "[54, 67.5, 80, 95]\n",
      "['Rasikh', 'Ali', 'Ahmed', 'Muneeb']\n",
      "[32, 33.5, 34, 35]\n"
     ]
    }
   ],
   "source": [
    "scores = [54, 67.5, 80, 95]    #list containing 10 elements\n",
    "print(scores)\n",
    "\n",
    "names = [\"Rasikh\", \"Ali\", \"Ahmed\", \"Muneeb\"]\n",
    "print(names)\n",
    "\n",
    "temperatures = [32, 33.5, 34, 35]\n",
    "print(temperatures)"
   ]
  },
  {
   "cell_type": "markdown",
   "metadata": {},
   "source": [
    "The square brackets indicate that we are creating a list. The items are stored as comma-separated and in the order they are provided. You will want to store the list in a variable so that you can access and manipulate it later.\n",
    "\n",
    "> In a list, order is important, and the order of the elements in a list never changes (unless you explicitly do so). Because the order of elements in a list is important, you refer to each element in a list using its index (its position within the list).\n",
    "\n",
    "### Accessing List elements\n",
    "\n",
    "A list is a sequence of elements, each of which has an integer position or index. To access a list element, you specify which index you want to use. That is done with the **subscript operator ([ ])** in the same way that you access individual characters in a string. Indexes in Lists always start with zero: that is the first element in a List will be at index 0.\n",
    "\n",
    "For example,"
   ]
  },
  {
   "cell_type": "code",
   "execution_count": 46,
   "metadata": {},
   "outputs": [
    {
     "name": "stdout",
     "output_type": "stream",
     "text": [
      "80\n"
     ]
    }
   ],
   "source": [
    "print(scores[2])    #Prints the element at index 2"
   ]
  },
  {
   "cell_type": "markdown",
   "metadata": {},
   "source": [
    "Both lists and strings are sequences, and the [ ] operator can be used to access an element in any sequence.\n",
    "\n",
    "There are two differences between lists and strings. Lists can hold values of any type, whereas strings are sequences of characters. Moreover, strings are immutable—you cannot change the characters in the sequence. But lists are mutable. You can\n",
    "replace one list element with another, like this:"
   ]
  },
  {
   "cell_type": "code",
   "execution_count": 47,
   "metadata": {},
   "outputs": [
    {
     "name": "stdout",
     "output_type": "stream",
     "text": [
      "87\n"
     ]
    }
   ],
   "source": [
    "scores[2] = 87   #replace the value at index 2 with 87\n",
    "print(scores[2])"
   ]
  },
  {
   "cell_type": "markdown",
   "metadata": {},
   "source": [
    "Now the element at index 2 is filled with 87.\n",
    "\n",
    "> Trying to access an element that does not exist in the list is a serious error. For example, if values has ten elements, you are not allowed to access values[20]. Attempting to access an element whose index is not within the valid index range is called an **out-of-range error** or a **bounds error**. When an **out-of-range error** occurs at run time, it causes a runtime exception.\n",
    "\n",
    "We can also select a range or specific values from the list:"
   ]
  },
  {
   "cell_type": "code",
   "execution_count": 48,
   "metadata": {},
   "outputs": [
    {
     "name": "stdout",
     "output_type": "stream",
     "text": [
      "scores[1]: 67.5\n",
      "scores[1:3]:  [67.5, 87]\n"
     ]
    }
   ],
   "source": [
    "print(\"scores[1]:\", scores[1])   #prints value at index 1 (54)\n",
    "print(\"scores[1:3]: \", scores[1:3])   #prints starting index 1 to 2 (ignores index 3)!"
   ]
  },
  {
   "cell_type": "markdown",
   "metadata": {},
   "source": [
    "We can use the `len` function to obtain the length of the list; that is, the number of elements:"
   ]
  },
  {
   "cell_type": "code",
   "execution_count": 49,
   "metadata": {},
   "outputs": [
    {
     "name": "stdout",
     "output_type": "stream",
     "text": [
      "4\n",
      "4\n"
     ]
    }
   ],
   "source": [
    "print(len(scores))    #prints the number of elements in a list\n",
    "\n",
    "listSize = len(scores)  #stores the number of elements in a variable\n",
    "print(listSize)"
   ]
  },
  {
   "cell_type": "markdown",
   "metadata": {},
   "source": [
    "### Updating List elements\n",
    "\n",
    "We can update any list element by assigning the list index a new value as follows:"
   ]
  },
  {
   "cell_type": "code",
   "execution_count": 50,
   "metadata": {},
   "outputs": [
    {
     "name": "stdout",
     "output_type": "stream",
     "text": [
      "['Physics', 'Computer Science', 1997, 2000]\n",
      "['Discrete Mathematics', 'Computer Science', 1997, 2000]\n"
     ]
    }
   ],
   "source": [
    "subjects = [\"Physics\", \"Computer Science\", 1997, 2000]\n",
    "print(subjects)\n",
    "\n",
    "subjects[0] = \"Discrete Mathematics\"   #replace value at index 0\n",
    "print(subjects)"
   ]
  },
  {
   "cell_type": "markdown",
   "metadata": {},
   "source": [
    "We can also use the `append()` method to add elements in a list. The `append()` method always adds elements at the end of a List."
   ]
  },
  {
   "cell_type": "code",
   "execution_count": 51,
   "metadata": {},
   "outputs": [
    {
     "name": "stdout",
     "output_type": "stream",
     "text": [
      "List size before appending new element:  4\n",
      "['Discrete Mathematics', 'Computer Science', 1997, 2000, 'Psychology']\n",
      "List size after appending new element:  5\n",
      "\n",
      "['Discrete Mathematics', 'Computer Science', 1997, 2000, 'Psychology', 2018]\n"
     ]
    }
   ],
   "source": [
    "print(\"List size before appending new element: \", len(subjects))\n",
    "subjects.append(\"Psychology\")\n",
    "print(subjects)\n",
    "print(\"List size after appending new element: \", len(subjects))\n",
    "\n",
    "print()   #blank line\n",
    "\n",
    "subjects.append(2018)\n",
    "print(subjects)"
   ]
  },
  {
   "cell_type": "markdown",
   "metadata": {},
   "source": [
    "The size, or length, of the list increases after each call to the append method. Any number of elements can be added to a list.\n",
    "\n",
    "If the order of the elements does not matter, appending new elements is sufficient. Sometimes, however, the order is important and a new element has to be inserted at a specific position in the list.\n",
    "\n",
    "Suppose that in the above **subjects** list, we would like to add a new element at the very beginning or index 0 of the list. The **insert** method of the List is used for this purpose. While using the **insert** method, first the index where the new value is to be inserted is given, then the new value is given.\n",
    "\n",
    "For example,"
   ]
  },
  {
   "cell_type": "code",
   "execution_count": 52,
   "metadata": {},
   "outputs": [
    {
     "name": "stdout",
     "output_type": "stream",
     "text": [
      "['Discrete Mathematics', 'Computer Science', 1997, 2000, 'Psychology', 2018] Length:  6\n",
      "\n",
      "Inserting new value at index 0\n",
      "\n",
      "[2009, 'Discrete Mathematics', 'Computer Science', 1997, 2000, 'Psychology', 2018] Length:  7\n"
     ]
    }
   ],
   "source": [
    "print(subjects, \"Length: \", len(subjects))\n",
    "print()\n",
    "\n",
    "print(\"Inserting new value at index 0\")\n",
    "subjects.insert(0, 2009)\n",
    "\n",
    "print()\n",
    "print(subjects, \"Length: \", len(subjects))"
   ]
  },
  {
   "cell_type": "markdown",
   "metadata": {},
   "source": [
    "All of the elements at and following position 0 are moved down by one position to make room for the new element, which is inserted at position 0. After each call to the insert method, the size of the list is increased by 1.\n",
    "\n",
    "### Removing an element\n",
    "\n",
    "The **pop** method removes the element at a given position. For example, suppose we start with the list:"
   ]
  },
  {
   "cell_type": "code",
   "execution_count": 53,
   "metadata": {},
   "outputs": [],
   "source": [
    "friends = [\"Rasikh\", \"Ali\", \"Ahmed\", \"Muneeb\"]"
   ]
  },
  {
   "cell_type": "markdown",
   "metadata": {},
   "source": [
    "To remove the element at index position 1 (\"Cindy\") in the friends list, you use the command:"
   ]
  },
  {
   "cell_type": "code",
   "execution_count": 54,
   "metadata": {},
   "outputs": [
    {
     "data": {
      "text/plain": [
       "'Ali'"
      ]
     },
     "execution_count": 54,
     "metadata": {},
     "output_type": "execute_result"
    }
   ],
   "source": [
    "friends.pop(1)"
   ]
  },
  {
   "cell_type": "markdown",
   "metadata": {},
   "source": [
    "All of the elements following the removed element are moved up one position to close the gap. The size of the list is reduced by 1. The index passed to the **pop** method must be within the valid range.\n",
    "\n",
    "The element removed from the list is returned by the **pop** method. This allows you to combine two operations in one—accessing the element and removing it:"
   ]
  },
  {
   "cell_type": "code",
   "execution_count": 55,
   "metadata": {},
   "outputs": [
    {
     "name": "stdout",
     "output_type": "stream",
     "text": [
      "The removed item is Ahmed\n",
      "List now contains elements:  ['Rasikh', 'Muneeb']\n"
     ]
    }
   ],
   "source": [
    "print(\"The removed item is\", friends.pop(1))\n",
    "print(\"List now contains elements: \", friends)"
   ]
  },
  {
   "cell_type": "markdown",
   "metadata": {},
   "source": [
    "If you call the **pop** method without an argument, it removes and returns the last element of the list. For example, `friends.pop()` removes \"Bill\".\n",
    "\n",
    "Similar to the **pop** method, we can also use the **del** function to remove an element from a list by giving the index of the element to be removed as a subscript with the name of the list. For example, "
   ]
  },
  {
   "cell_type": "code",
   "execution_count": 56,
   "metadata": {},
   "outputs": [
    {
     "name": "stdout",
     "output_type": "stream",
     "text": [
      "Before the removal of the first element:  ['Rasikh', 'Muneeb']\n",
      "\n",
      "After the removal of the first element:  ['Muneeb']\n"
     ]
    }
   ],
   "source": [
    "print(\"Before the removal of the first element: \", friends)\n",
    "del friends[0]    #removes the first element\n",
    "\n",
    "print()\n",
    "print(\"After the removal of the first element: \", friends)"
   ]
  },
  {
   "cell_type": "markdown",
   "metadata": {},
   "source": [
    "The **remove** method removes an element by value instead of by position. For example, suppose we want to remove the string \"Cari\" from the friends list but we do not know where it's located in the list. Instead of having to find the position, we can use the **remove** method:"
   ]
  },
  {
   "cell_type": "code",
   "execution_count": 57,
   "metadata": {},
   "outputs": [
    {
     "name": "stdout",
     "output_type": "stream",
     "text": [
      "List now contains elements:  []\n"
     ]
    }
   ],
   "source": [
    "friends.remove(\"Muneeb\")\n",
    "print(\"List now contains elements: \", friends)"
   ]
  },
  {
   "cell_type": "markdown",
   "metadata": {},
   "source": [
    "<a id=\"sets\"></a>\n",
    "## 1.5 Sets\n",
    "\n",
    "[[ go back to the top ]](#Table-of-contents)\n",
    "\n",
    "A set is a container that stores a collection of **unique** values. Unlike a list, the elements or members of the set are *not stored in any particular order* and *cannot be accessed by position*. The operations available for use with a set are the same as the operations performed on sets in mathematics. Because sets need not maintain a particular order, set operations are much faster than the equivalent list operations.\n",
    "\n",
    "Because sets cannot have multiple occurrences of the same element, it makes sets highly useful to efficiently remove duplicate values from a list or tuple and to perform common math operations like unions and intersections.\n",
    "\n",
    "> Whenever we are looking to work with multiple distinct or unique values, we should use Sets instead of Lists."
   ]
  },
  {
   "cell_type": "markdown",
   "metadata": {},
   "source": [
    "### Creating and using sets\n",
    "\n",
    "To create a set with initial elements, you can specify the elements enclosed in braces, just like in mathematics:"
   ]
  },
  {
   "cell_type": "code",
   "execution_count": 58,
   "metadata": {},
   "outputs": [
    {
     "name": "stdout",
     "output_type": "stream",
     "text": [
      "{'Green', 'Blue', 'Red'}\n",
      "{2, 3, 5, 6, 8, 10}\n",
      "{'123-Elm Street', '101 Main Blvd', 100, 25.5}\n"
     ]
    }
   ],
   "source": [
    "colors = { \"Red\", \"Green\", \"Blue\" }\n",
    "print(colors)\n",
    "\n",
    "points = { 5, 10, 6, 2, 8, 3 }\n",
    "print(points)\n",
    "\n",
    "addresses = { \"123-Elm Street\", 100, \"101 Main Blvd\", 25.5 }\n",
    "print(addresses)"
   ]
  },
  {
   "cell_type": "markdown",
   "metadata": {},
   "source": [
    "Elements of a set are comma separated. We can also have an empty Set as: "
   ]
  },
  {
   "cell_type": "code",
   "execution_count": 59,
   "metadata": {},
   "outputs": [
    {
     "name": "stdout",
     "output_type": "stream",
     "text": [
      "{}\n"
     ]
    }
   ],
   "source": [
    "emptySet = {}\n",
    "print(emptySet)"
   ]
  },
  {
   "cell_type": "markdown",
   "metadata": {},
   "source": [
    "Alternatively, you can use the **set** function to convert any sequence into a set:"
   ]
  },
  {
   "cell_type": "code",
   "execution_count": 60,
   "metadata": {},
   "outputs": [
    {
     "name": "stdout",
     "output_type": "stream",
     "text": [
      "{'Rasikh', 'Ahmed', 'Ali', 'Muneeb'} Size of set:  4\n"
     ]
    }
   ],
   "source": [
    "names = [\"Rasikh\", \"Ali\", \"Ahmed\", \"Muneeb\"]\n",
    "cast = set(names)\n",
    "\n",
    "print(cast, \"Size of set: \", len(cast))"
   ]
  },
  {
   "cell_type": "markdown",
   "metadata": {},
   "source": [
    "As with any container, you can use the **len** function to obtain the number of elements in a set:"
   ]
  },
  {
   "cell_type": "code",
   "execution_count": 61,
   "metadata": {},
   "outputs": [
    {
     "name": "stdout",
     "output_type": "stream",
     "text": [
      "4\n"
     ]
    }
   ],
   "source": [
    "numberOfCharacters = len(cast)\n",
    "print(numberOfCharacters)"
   ]
  },
  {
   "cell_type": "markdown",
   "metadata": {},
   "source": [
    "To determine whether an element is contained in the set, use the **in** operator or its inverse, the **not in** operator:"
   ]
  },
  {
   "cell_type": "code",
   "execution_count": 62,
   "metadata": {},
   "outputs": [
    {
     "name": "stdout",
     "output_type": "stream",
     "text": [
      "Rasikh is included in the set of cast.\n"
     ]
    }
   ],
   "source": [
    "if \"Rasikh\" in cast :\n",
    "    print(\"Rasikh is included in the set of cast.\")\n",
    "else :\n",
    "    print(\"Rasikh is not a character in the show.\")"
   ]
  },
  {
   "cell_type": "markdown",
   "metadata": {},
   "source": [
    "Because sets are unordered, you cannot access the elements of a set by position as you can with a list. Instead, use a **for** loop to iterate over the individual elements:"
   ]
  },
  {
   "cell_type": "code",
   "execution_count": 63,
   "metadata": {},
   "outputs": [
    {
     "name": "stdout",
     "output_type": "stream",
     "text": [
      "The cast of characters includes:\n",
      "Rasikh\n",
      "Ahmed\n",
      "Ali\n",
      "Muneeb\n"
     ]
    }
   ],
   "source": [
    "print(\"The cast of characters includes:\")\n",
    "for character in cast :\n",
    "    print(character)"
   ]
  },
  {
   "cell_type": "markdown",
   "metadata": {},
   "source": [
    "> Note that the order in which the elements of the set are visited depends on how they are stored internally.\n",
    "\n",
    "### Adding and removing elements\n",
    "\n",
    "Like lists, sets are mutable collections, so you can add and remove elements. For example, suppose we need to add more characters to the set cast created in the previous section. Use the **add** method to add elements:"
   ]
  },
  {
   "cell_type": "code",
   "execution_count": 64,
   "metadata": {},
   "outputs": [
    {
     "name": "stdout",
     "output_type": "stream",
     "text": [
      "{'Rasikh', 'Muneeb', 'Ahmed', 'Musahaf', 'Ali'} Size:  5\n"
     ]
    }
   ],
   "source": [
    "cast.add(\"Musahaf\")\n",
    "print(cast, \"Size: \", len(cast))"
   ]
  },
  {
   "cell_type": "markdown",
   "metadata": {},
   "source": [
    "If the element being added is not already contained in the set, it will be added to the set and the size of the set increased by one. Remember, however, that a set cannot contain duplicate elements. If you attempt to add an element that is already in the set, there is no effect and the set is not changed."
   ]
  },
  {
   "cell_type": "code",
   "execution_count": 65,
   "metadata": {},
   "outputs": [
    {
     "name": "stdout",
     "output_type": "stream",
     "text": [
      "{'Rasikh', 'Muneeb', 'Ahmed', 'Musahaf', 'Anas', 'Ali'}\n"
     ]
    }
   ],
   "source": [
    "cast.add(\"Anas\")\n",
    "print(cast)"
   ]
  },
  {
   "cell_type": "markdown",
   "metadata": {},
   "source": [
    "The **update** function in set adds elements from a set (passed as an argument) to the set, that is, it can add multiple elements in a set. Any duplicates elements are ignored during the **update**."
   ]
  },
  {
   "cell_type": "code",
   "execution_count": 66,
   "metadata": {},
   "outputs": [
    {
     "name": "stdout",
     "output_type": "stream",
     "text": [
      "{1, 2, 3, 5, 6, 7}\n",
      "{1, 2, 3, 5, 6, 7, 10, 11, 12}\n"
     ]
    }
   ],
   "source": [
    "list1 = [1, 2, 3]  \n",
    "list2 = [3, 5, 6, 7]  \n",
    "list3 = [10, 11, 12] \n",
    "  \n",
    "# Lists converted to sets  \n",
    "set1 = set(list2)  \n",
    "set2 = set(list1) \n",
    "  \n",
    "# Update method  \n",
    "set1.update(set2) \n",
    "   \n",
    "# Print the updated set  \n",
    "print(set1)  \n",
    "  \n",
    "# List is passed as an parameter which gets automatically converted to a set  \n",
    "set1.update(list3)  \n",
    "print(set1) "
   ]
  },
  {
   "cell_type": "markdown",
   "metadata": {},
   "source": [
    "There are two methods that can be used to remove individual elements from a set. The **discard** method removes an element if the element exists.  "
   ]
  },
  {
   "cell_type": "code",
   "execution_count": 67,
   "metadata": {},
   "outputs": [
    {
     "name": "stdout",
     "output_type": "stream",
     "text": [
      "{'Rasikh', 'Ahmed', 'Musahaf', 'Anas', 'Ali'} Size:  5\n"
     ]
    }
   ],
   "source": [
    "cast.discard(\"Muneeb\")\n",
    "print(cast, \"Size: \", len(cast))"
   ]
  },
  {
   "cell_type": "markdown",
   "metadata": {},
   "source": [
    "but has no effect if the given element is not a member of the set:"
   ]
  },
  {
   "cell_type": "code",
   "execution_count": 68,
   "metadata": {},
   "outputs": [
    {
     "name": "stdout",
     "output_type": "stream",
     "text": [
      "{'Rasikh', 'Ahmed', 'Musahaf', 'Anas', 'Ali'}\n"
     ]
    }
   ],
   "source": [
    "cast.discard(\"Aliyan\")     # Has no effect\n",
    "print(cast)"
   ]
  },
  {
   "cell_type": "markdown",
   "metadata": {},
   "source": [
    "The **remove** method, on the other hand, removes an element if it exists, but raises an exception if the given element is not a member of the set:"
   ]
  },
  {
   "cell_type": "code",
   "execution_count": 69,
   "metadata": {},
   "outputs": [
    {
     "ename": "KeyError",
     "evalue": "'Aliyan'",
     "output_type": "error",
     "traceback": [
      "\u001b[1;31m---------------------------------------------------------------------------\u001b[0m",
      "\u001b[1;31mKeyError\u001b[0m                                  Traceback (most recent call last)",
      "Cell \u001b[1;32mIn[69], line 1\u001b[0m\n\u001b[1;32m----> 1\u001b[0m \u001b[43mcast\u001b[49m\u001b[38;5;241;43m.\u001b[39;49m\u001b[43mremove\u001b[49m\u001b[43m(\u001b[49m\u001b[38;5;124;43m\"\u001b[39;49m\u001b[38;5;124;43mAliyan\u001b[39;49m\u001b[38;5;124;43m\"\u001b[39;49m\u001b[43m)\u001b[49m\n",
      "\u001b[1;31mKeyError\u001b[0m: 'Aliyan'"
     ]
    }
   ],
   "source": [
    "cast.remove(\"Aliyan\")     # Raises an exception"
   ]
  },
  {
   "cell_type": "markdown",
   "metadata": {},
   "source": [
    "Finally, the **clear** method removes all elements of a set, leaving the empty set:"
   ]
  },
  {
   "cell_type": "code",
   "execution_count": 70,
   "metadata": {},
   "outputs": [
    {
     "name": "stdout",
     "output_type": "stream",
     "text": [
      "set() Size:  0\n"
     ]
    }
   ],
   "source": [
    "cast.clear()    # cast now has size 0\n",
    "print(cast, \"Size: \", len(cast))"
   ]
  },
  {
   "cell_type": "markdown",
   "metadata": {},
   "source": [
    "### Set Union, Intersection, and Difference\n",
    "\n",
    "The union of two sets contains all of the elements from both sets, with duplicates removed. Use the **union** method to create the union of two sets in Python. For example:"
   ]
  },
  {
   "cell_type": "code",
   "execution_count": 71,
   "metadata": {},
   "outputs": [
    {
     "name": "stdout",
     "output_type": "stream",
     "text": [
      "{'Green', 'Blue', 'Red', 'White'} Size:  4\n"
     ]
    }
   ],
   "source": [
    "canadian = { \"Red\", \"White\" }         # flag colors\n",
    "british = { \"Red\", \"Blue\", \"White\" }  #flag colors\n",
    "italian = { \"Red\", \"White\", \"Green\" } #flag colors\n",
    "\n",
    "inEither = british.union(italian) # The set {\"Blue\", \"Green\", \"White\", \"Red\"}\n",
    "print(inEither, \"Size: \", len(inEither))"
   ]
  },
  {
   "cell_type": "markdown",
   "metadata": {},
   "source": [
    "Both the british and italian sets contain the colors \"Red\" and \"White\", but the union is a set and therefore contains only one instance of each color.\n",
    "\n",
    "> Note that the union method returns a new set. It does not modify either of the sets in the call.\n",
    "\n",
    "The intersection of two sets contains all of the elements that are in both sets. To create the intersection of two Python sets, use the **intersection** method:"
   ]
  },
  {
   "cell_type": "code",
   "execution_count": 72,
   "metadata": {},
   "outputs": [
    {
     "name": "stdout",
     "output_type": "stream",
     "text": [
      "{'White', 'Red'} Size:  2\n"
     ]
    }
   ],
   "source": [
    "inBoth = british.intersection(italian)    # The set {\"White\", \"Red\"}\n",
    "print(inBoth, \"Size: \", len(inBoth))"
   ]
  },
  {
   "cell_type": "markdown",
   "metadata": {},
   "source": [
    "Finally, the difference of two sets results in a new set that contains those elements in the first set that are not in the second set. For example, the difference between the Italian and the British colors is the set containing only \"Green\". \n",
    "\n",
    "Use the **difference** method to find the set difference:"
   ]
  },
  {
   "cell_type": "code",
   "execution_count": 73,
   "metadata": {},
   "outputs": [
    {
     "name": "stdout",
     "output_type": "stream",
     "text": [
      "Colors that are in the Italian flag but not the British:\n",
      "{'Green'}\n"
     ]
    }
   ],
   "source": [
    "print(\"Colors that are in the Italian flag but not the British:\")\n",
    "print(italian.difference(british)) # Prints {'Green'}"
   ]
  },
  {
   "cell_type": "markdown",
   "metadata": {},
   "source": [
    "When forming the union or intersection of two sets, the order does not matter. For example, `british.union(italian)` is the same set as `italian.union(british)`. But the order matters with the **difference** method. The set returned by:"
   ]
  },
  {
   "cell_type": "code",
   "execution_count": 74,
   "metadata": {},
   "outputs": [
    {
     "name": "stdout",
     "output_type": "stream",
     "text": [
      "{'Blue'}\n"
     ]
    }
   ],
   "source": [
    "print(british.difference(italian))"
   ]
  },
  {
   "cell_type": "markdown",
   "metadata": {},
   "source": [
    "is {\"Blue\"}."
   ]
  },
  {
   "cell_type": "markdown",
   "metadata": {},
   "source": [
    "<a id=\"dict\"></a>\n",
    "## 1.6 Dictionaries\n",
    "\n",
    "[[ go back to the top ]](#Table-of-contents)\n",
    "\n",
    "A dictionary is a container that keeps associations between *keys* and *values*. Every key in the dictionary has an associated value. Keys are unique, but a value may be associated with several keys. The dictionary structure is also known as a *map* because it maps a unique key to a value. It stores the keys, values, and the associations between them.\n",
    "\n",
    "> We will use a dictionary in all application where a value to be searched is associated with a particular and unique key. For example, in a contact list, a person's name acts as a key that is associated with one or more numbers. Similarly, the address book can also said to be an example of a dictionary.\n",
    "\n",
    "> In all applications, dictionary searches will always outperform set or list searches as the keys are stored in a way to optimize search on keys.\n",
    "\n",
    "> Hashing is an example of a dictionary implementation, and is an example of an instantaneous search costing O(1).\n",
    "\n",
    "### Creating dictionaries\n",
    "\n",
    "Suppose you need to write a program that looks up the phone number for a person in your mobile phone’s contact list. You can use a dictionary where the names are keys and the phone numbers are values. The dictionary also allows you to associate more than one person with a given number.\n",
    "\n",
    "Here we create a small dictionary for a contact list that contains four items: "
   ]
  },
  {
   "cell_type": "code",
   "execution_count": 75,
   "metadata": {},
   "outputs": [
    {
     "name": "stdout",
     "output_type": "stream",
     "text": [
      "{'Rasikh': 7235591, 'Ali': 3841212, 'Muneeb': 3841212, 'Ahmed': 2213278} Size:  4\n"
     ]
    }
   ],
   "source": [
    "contacts = { \"Rasikh\": 7235591, \"Ali\": 3841212, \"Muneeb\": 3841212, \"Ahmed\": 2213278 }\n",
    "print(contacts, \"Size: \", len(contacts))"
   ]
  },
  {
   "cell_type": "markdown",
   "metadata": {},
   "source": [
    "We can have other examples of dictionaries as follows:"
   ]
  },
  {
   "cell_type": "code",
   "execution_count": 76,
   "metadata": {},
   "outputs": [
    {
     "name": "stdout",
     "output_type": "stream",
     "text": [
      "{'A': 4, 'B': 3, 'C': 2.5, 'D': 2} Size:  4\n",
      "{'PI': 3.14159, 'g': 9.8, 'K': 212} Size:  4\n"
     ]
    }
   ],
   "source": [
    "grades = { \"A\": 4, \"B\": 3, \"C\": 2.5, \"D\": 2 }\n",
    "print(grades, \"Size: \", len(contacts))\n",
    "\n",
    "constants = { \"PI\": 3.14159, \"g\": 9.8, \"K\": 212}\n",
    "print(constants, \"Size: \", len(contacts))"
   ]
  },
  {
   "cell_type": "markdown",
   "metadata": {},
   "source": [
    "Each key/value pair is separated by a colon. You enclose the key/value pairs in braces, just as you would when forming a set. When the braces contain key/value pairs, they denote a dictionary, not a set. The only ambiguous case is an empty { }. By convention, it denotes an empty dictionary, not an empty set.\n",
    "\n",
    "You can create a duplicate copy of a dictionary using the **dict** function:"
   ]
  },
  {
   "cell_type": "code",
   "execution_count": 77,
   "metadata": {},
   "outputs": [
    {
     "name": "stdout",
     "output_type": "stream",
     "text": [
      "{'Rasikh': 7235591, 'Ali': 3841212, 'Muneeb': 3841212, 'Ahmed': 2213278}\n"
     ]
    }
   ],
   "source": [
    "oldContacts = dict(contacts)\n",
    "print(oldContacts)"
   ]
  },
  {
   "cell_type": "markdown",
   "metadata": {},
   "source": [
    "### Accessing dictionary values\n",
    "\n",
    "The subscript operator [ ] is used to return the value associated with a key. The statement:"
   ]
  },
  {
   "cell_type": "code",
   "execution_count": 78,
   "metadata": {},
   "outputs": [
    {
     "name": "stdout",
     "output_type": "stream",
     "text": [
      "Ali's number is 3841212\n"
     ]
    }
   ],
   "source": [
    "print(\"Ali's number is\", contacts[\"Ali\"])"
   ]
  },
  {
   "cell_type": "markdown",
   "metadata": {},
   "source": [
    "prints `3841212`.\n",
    "\n",
    "Note that the dictionary is not a sequence-type container like a list. Even though the subscript operator is used with a dictionary, you cannot access the items by index or position. A value can only be accessed using its associated key.\n",
    "\n",
    "The key supplied to the subscript operator must be a valid key in the dictionary or a `KeyError` exception will be raised. To find out whether a key is present in the dictionary, use the **in** (or **not in**) operator:"
   ]
  },
  {
   "cell_type": "code",
   "execution_count": 79,
   "metadata": {},
   "outputs": [
    {
     "name": "stdout",
     "output_type": "stream",
     "text": [
      "Ahmed's number is 2213278\n"
     ]
    }
   ],
   "source": [
    "if \"Ahmed\" in contacts :\n",
    "    print(\"Ahmed's number is\", contacts[\"Ahmed\"])\n",
    "else :\n",
    "    print(\"Ahmed is not in my contact list.\")"
   ]
  },
  {
   "cell_type": "markdown",
   "metadata": {},
   "source": [
    "### Adding and modifying items\n",
    "\n",
    "A dictionary is a mutable container. That is, you can change its contents after it has been created. You can add a new item using the subscript operator [ ] much as you would with a list:"
   ]
  },
  {
   "cell_type": "code",
   "execution_count": 80,
   "metadata": {},
   "outputs": [
    {
     "name": "stdout",
     "output_type": "stream",
     "text": [
      "{'Rasikh': 7235591, 'Ali': 3841212, 'Muneeb': 3841212, 'Ahmed': 4578102}\n"
     ]
    }
   ],
   "source": [
    "contacts[\"Ahmed\"] = 4578102\n",
    "print(contacts)"
   ]
  },
  {
   "cell_type": "markdown",
   "metadata": {},
   "source": [
    "To change the value associated with a given key, set a new value using the [ ] operator on an existing key:"
   ]
  },
  {
   "cell_type": "code",
   "execution_count": 81,
   "metadata": {},
   "outputs": [
    {
     "name": "stdout",
     "output_type": "stream",
     "text": [
      "{'Rasikh': 7235591, 'Ali': 3841212, 'Muneeb': 3841212, 'Ahmed': 2228102}\n"
     ]
    }
   ],
   "source": [
    "contacts[\"Ahmed\"] = 2228102\n",
    "print(contacts)"
   ]
  },
  {
   "cell_type": "markdown",
   "metadata": {},
   "source": [
    "Sometimes you may not know which items will be contained in the dictionary when it's created. You can create an empty dictionary like this:"
   ]
  },
  {
   "cell_type": "code",
   "execution_count": 82,
   "metadata": {},
   "outputs": [],
   "source": [
    "favoriteColors = {}"
   ]
  },
  {
   "cell_type": "markdown",
   "metadata": {},
   "source": [
    "and add new items as needed:"
   ]
  },
  {
   "cell_type": "code",
   "execution_count": 83,
   "metadata": {},
   "outputs": [
    {
     "name": "stdout",
     "output_type": "stream",
     "text": [
      "{'Rasikh': 'Blue', 'Ahmed': 'Red', 'Ali': 'Blue', 'Anas': 'Green'}\n"
     ]
    }
   ],
   "source": [
    "favoriteColors[\"Rasikh\"] = \"Blue\"\n",
    "favoriteColors[\"Ahmed\"] = \"Red\"\n",
    "favoriteColors[\"Ali\"] = \"Blue\"\n",
    "favoriteColors[\"Anas\"] = \"Green\"\n",
    "\n",
    "print(favoriteColors)"
   ]
  },
  {
   "cell_type": "markdown",
   "metadata": {},
   "source": [
    "### Removing items\n",
    "\n",
    "To remove an item from a dictionary, call the **pop** method with the key as the argument:"
   ]
  },
  {
   "cell_type": "code",
   "execution_count": 84,
   "metadata": {},
   "outputs": [
    {
     "name": "stdout",
     "output_type": "stream",
     "text": [
      "{'Rasikh': 7235591, 'Muneeb': 3841212, 'Ahmed': 2228102}\n"
     ]
    }
   ],
   "source": [
    "contacts.pop(\"Ali\")\n",
    "print(contacts)"
   ]
  },
  {
   "cell_type": "markdown",
   "metadata": {},
   "source": [
    "This removes the entire item, both the key and its associated value. The **pop** method returns the value of the item being removed, so you can use it or store it in a variable:"
   ]
  },
  {
   "cell_type": "code",
   "execution_count": 85,
   "metadata": {},
   "outputs": [
    {
     "name": "stdout",
     "output_type": "stream",
     "text": [
      "2228102\n"
     ]
    }
   ],
   "source": [
    "ahmedNumber = contacts.pop(\"Ahmed\")\n",
    "print(ahmedNumber)"
   ]
  },
  {
   "cell_type": "markdown",
   "metadata": {},
   "source": [
    "If the key is not in the dictionary, the **pop** method raises a `KeyError` exception. To prevent the exception from being raised, you can test for the key in the dictionary:"
   ]
  },
  {
   "cell_type": "code",
   "execution_count": 86,
   "metadata": {},
   "outputs": [],
   "source": [
    "if \"Rasikh\" in contacts :\n",
    "    contacts.pop(\"Rasikh\")\n",
    "else:\n",
    "    print(\"Rasikh not present in the dictionary\")"
   ]
  },
  {
   "cell_type": "markdown",
   "metadata": {},
   "source": [
    "### Traversing a Dictionary\n",
    "\n",
    "You can iterate over the individual keys in a dictionary using a for loop:"
   ]
  },
  {
   "cell_type": "code",
   "execution_count": 87,
   "metadata": {},
   "outputs": [
    {
     "name": "stdout",
     "output_type": "stream",
     "text": [
      "My Contacts:\n",
      "Muneeb\n"
     ]
    }
   ],
   "source": [
    "print(\"My Contacts:\")\n",
    "for key in contacts :\n",
    "    print(key)"
   ]
  },
  {
   "cell_type": "markdown",
   "metadata": {},
   "source": [
    "Note that the dictionary stores its items in an order that is optimized for efficiency, which may not be the order in which they were added. To access the value associated with a key in the body of the loop, you can use the loop variable with the subscript operator. For example, these statements print both the name and phone number of your contacts:"
   ]
  },
  {
   "cell_type": "code",
   "execution_count": 88,
   "metadata": {},
   "outputs": [
    {
     "name": "stdout",
     "output_type": "stream",
     "text": [
      "My Contacts:\n",
      "Muneeb     3841212\n"
     ]
    }
   ],
   "source": [
    "print(\"My Contacts:\")\n",
    "for key in contacts :\n",
    "    print(\"%-10s %d\" % (key, contacts[key]))"
   ]
  },
  {
   "cell_type": "markdown",
   "metadata": {},
   "source": [
    "<a id=\"tuples\"></a>\n",
    "## 1.7 Tuples\n",
    "\n",
    "[[ go back to the top ]](#Table-of-contents)\n",
    "\n",
    "Python provides a data type for immutable sequences of arbitrary data. A tuple is very similar to a list, but once created, its contents cannot be modified. \n",
    "\n",
    "> A tuple is essentially a list that cannot be changed.\n",
    "\n",
    "> A tuple is a fixed-length, immutable sequence of Python objects.\n",
    "\n",
    "A tuple is created by specifying its contents as a comma-separated sequence. You can enclose the sequence in parentheses:"
   ]
  },
  {
   "cell_type": "code",
   "execution_count": 89,
   "metadata": {},
   "outputs": [
    {
     "name": "stdout",
     "output_type": "stream",
     "text": [
      "(5, 10, 15) Size:  3\n",
      "('Maths', 98, 'Programming', 99, 'Research') Size:  5\n"
     ]
    }
   ],
   "source": [
    "triple = (5, 10, 15)\n",
    "print(triple, \"Size: \", len(triple))\n",
    "\n",
    "data = (\"Maths\", 98, \"Programming\", 99, \"Research\")\n",
    "print(data, \"Size: \", len(data))"
   ]
  },
  {
   "cell_type": "markdown",
   "metadata": {},
   "source": [
    "Tuples can contain elements of various types. If you prefer, you can omit the parentheses:"
   ]
  },
  {
   "cell_type": "code",
   "execution_count": 90,
   "metadata": {},
   "outputs": [],
   "source": [
    "triple = 5, 10, 15"
   ]
  },
  {
   "cell_type": "markdown",
   "metadata": {},
   "source": [
    "> The difference between lists and tuples are that tuples cannot be changed.\n",
    "\n",
    "> For all applications where we need to store immutable data, tuples should be preferred over lists.\n",
    "\n",
    "Each item stored in a tuple is comma-separated. We can create empty tuples as:"
   ]
  },
  {
   "cell_type": "code",
   "execution_count": 91,
   "metadata": {},
   "outputs": [
    {
     "name": "stdout",
     "output_type": "stream",
     "text": [
      "()\n"
     ]
    }
   ],
   "source": [
    "counter = ()\n",
    "print(counter)"
   ]
  },
  {
   "cell_type": "markdown",
   "metadata": {},
   "source": [
    "### Accessing values in tuples\n",
    "\n",
    "We can access an individual element of a tuple by its position using the **[ ]** operator. For example, "
   ]
  },
  {
   "cell_type": "code",
   "execution_count": 92,
   "metadata": {},
   "outputs": [
    {
     "name": "stdout",
     "output_type": "stream",
     "text": [
      "10\n",
      "('Maths', 98, 'Programming')\n"
     ]
    }
   ],
   "source": [
    "element = triple[1]\n",
    "print(element)\n",
    "\n",
    "print(data[0:3])"
   ]
  },
  {
   "cell_type": "markdown",
   "metadata": {},
   "source": [
    "We can iterate over the elements of a tuple using for loops."
   ]
  },
  {
   "cell_type": "code",
   "execution_count": 93,
   "metadata": {},
   "outputs": [
    {
     "name": "stdout",
     "output_type": "stream",
     "text": [
      "98\n",
      "Programming\n"
     ]
    }
   ],
   "source": [
    "for i in range(1, 3) :\n",
    "    print(data[i])"
   ]
  },
  {
   "cell_type": "markdown",
   "metadata": {},
   "source": [
    "### Updating tuples\n",
    "\n",
    "As tuples are immutable, that means that we cannot change any element in a tuple. For example, the following action is not allowed on a tuple:"
   ]
  },
  {
   "cell_type": "code",
   "execution_count": 94,
   "metadata": {},
   "outputs": [
    {
     "ename": "TypeError",
     "evalue": "'tuple' object does not support item assignment",
     "output_type": "error",
     "traceback": [
      "\u001b[1;31m---------------------------------------------------------------------------\u001b[0m",
      "\u001b[1;31mTypeError\u001b[0m                                 Traceback (most recent call last)",
      "Cell \u001b[1;32mIn[94], line 1\u001b[0m\n\u001b[1;32m----> 1\u001b[0m data[\u001b[38;5;241m0\u001b[39m] \u001b[38;5;241m=\u001b[39m \u001b[38;5;124m\"\u001b[39m\u001b[38;5;124mPhysics\u001b[39m\u001b[38;5;124m\"\u001b[39m\n",
      "\u001b[1;31mTypeError\u001b[0m: 'tuple' object does not support item assignment"
     ]
    }
   ],
   "source": [
    "data[0] = \"Physics\"   #error: no changes are allowed!"
   ]
  },
  {
   "cell_type": "markdown",
   "metadata": {},
   "source": [
    "We can use other tuples to create new tuples. For example,"
   ]
  },
  {
   "cell_type": "code",
   "execution_count": 95,
   "metadata": {},
   "outputs": [
    {
     "name": "stdout",
     "output_type": "stream",
     "text": [
      "('Red', 'Green', 'Blue', 'Cyan', 'Magenta', 'Yellow', 'Kelvin')\n"
     ]
    }
   ],
   "source": [
    "colors1 = (\"Red\", \"Green\", \"Blue\")\n",
    "colors2 = (\"Cyan\", \"Magenta\", \"Yellow\", \"Kelvin\")\n",
    "\n",
    "colors = colors1 + colors2\n",
    "print(colors)"
   ]
  },
  {
   "cell_type": "markdown",
   "metadata": {},
   "source": [
    "### Deleting tuples\n",
    "\n",
    "As tuples are immutable, we cannot delete any element from a tuple. We can however, delete a whole tuple using the **del** function:"
   ]
  },
  {
   "cell_type": "code",
   "execution_count": 96,
   "metadata": {},
   "outputs": [
    {
     "ename": "NameError",
     "evalue": "name 'colors' is not defined",
     "output_type": "error",
     "traceback": [
      "\u001b[1;31m---------------------------------------------------------------------------\u001b[0m",
      "\u001b[1;31mNameError\u001b[0m                                 Traceback (most recent call last)",
      "Cell \u001b[1;32mIn[96], line 3\u001b[0m\n\u001b[0;32m      1\u001b[0m \u001b[38;5;28;01mdel\u001b[39;00m colors\n\u001b[1;32m----> 3\u001b[0m \u001b[38;5;28mprint\u001b[39m(\u001b[43mcolors\u001b[49m)\n",
      "\u001b[1;31mNameError\u001b[0m: name 'colors' is not defined"
     ]
    }
   ],
   "source": [
    "del colors\n",
    "\n",
    "print(colors)   #error: no tuple"
   ]
  },
  {
   "cell_type": "markdown",
   "metadata": {},
   "source": [
    "### When to use tuples?\n",
    "\n",
    "When a list is represented as a tuple, Python internally organizes the data in a way that it can access each individual element faster than in a list. Therefore, if you want to write code that runs as fast as possible, then look for any case where you have a list that never changes in your program. You can redefine it from a list to a tuple by changing the square brackets to parentheses. Eventually, this concept becomes second nature. You start thinking of unchanging lists as tuples and define them\n",
    "that way right from the start.\n",
    "\n",
    "There is one additional small benefit to using a tuple. If you have a list of data and you want to ensure that there is no code that makes any changes to it, use a tuple. Any code that attempts to append to, delete from, or modify an element of a tuple will generate an error message. The offending code can quickly be identified and corrected."
   ]
  },
  {
   "cell_type": "markdown",
   "metadata": {},
   "source": [
    "<a id=\"func\"></a>\n",
    "## 1.8 Functions\n",
    "\n",
    "[[ go back to the top ]](#Table-of-contents)\n",
    "\n",
    "A function is a sequence of instructions with a name. You have already encountered several functions during the discussion of various topics above.  For example, the `round` function contains instructions to round a floating-point value to a specified number of decimal places. You *call* a function in order to execute its instructions. For example, consider the following program statement:"
   ]
  },
  {
   "cell_type": "code",
   "execution_count": 97,
   "metadata": {},
   "outputs": [
    {
     "name": "stdout",
     "output_type": "stream",
     "text": [
      "6.83\n"
     ]
    }
   ],
   "source": [
    "price = round(6.8275, 2) # Sets result to 6.83\n",
    "print(price)"
   ]
  },
  {
   "cell_type": "markdown",
   "metadata": {},
   "source": [
    "By using the expression `round(6.8275, 2)`, the program *calls* the round function, asking it to round 6.8275 to two decimal digits. The instructions of the `round` function execute and compute the result. The `round` function *returns* its result back to where the function was called and the program resumes execution.\n",
    "\n",
    "When another function calls the `round` function, it provides “inputs”, such as the values 6.8275 and 2 in the call `round(6.8275, 2)`. These values are called the **arguments** of the function call. Note that they are not necessarily inputs provided by a human user. They are simply the values for which we want the function to compute a result. The “output” that the round function computes is called the **return value**.\n",
    "\n",
    "Functions can receive multiple arguments, but they return only one value. It is also possible to have functions with no arguments. An example is the `random` function that requires no argument to produce a random number.\n",
    "\n",
    "The return value of a function is returned to the point in your program where the function was called. It is then processed according to the statement containing the function call. For example, suppose your program contains a statement:"
   ]
  },
  {
   "cell_type": "code",
   "execution_count": 98,
   "metadata": {},
   "outputs": [
    {
     "name": "stdout",
     "output_type": "stream",
     "text": [
      "6.83\n"
     ]
    }
   ],
   "source": [
    "price = round(6.8275, 2)\n",
    "print(price)"
   ]
  },
  {
   "cell_type": "markdown",
   "metadata": {},
   "source": [
    "When the round function returns its result, the return value is stored in the variable price.\n",
    "\n",
    "### Implementing a function\n",
    "\n",
    "We will start with a very simple example: a function to compute the volume of a cube with a given side length. When writing this function, you need to:\n",
    "-  Pick a name for the function (cubeVolume).\n",
    "-  Define a variable for each argument (sideLength). These variables are called the **parameter variables**.\n",
    "\n",
    "Put all this information together along with the def reserved word to form the first line of the function’s definition:"
   ]
  },
  {
   "cell_type": "markdown",
   "metadata": {},
   "source": [
    "`def cubeVolume(sideLength) :`"
   ]
  },
  {
   "cell_type": "markdown",
   "metadata": {},
   "source": [
    "This line is called the **header** of the function. Next, specify the **body** of the function. The body contains the statements that are executed when the function is called.\n",
    "\n",
    "The volume of a cube of side length s is s × s × s. However, for greater clarity, our parameter variable has been called `sideLength`, not `s`, so we need to compute `sideLength ** 3`.\n",
    "\n",
    "We will store this value in a variable called `volume`:"
   ]
  },
  {
   "cell_type": "markdown",
   "metadata": {},
   "source": [
    "`volume = sideLength ** 3`"
   ]
  },
  {
   "cell_type": "markdown",
   "metadata": {},
   "source": [
    "In order to return the result of the function, use the `return` statement:"
   ]
  },
  {
   "cell_type": "markdown",
   "metadata": {},
   "source": [
    "`return volume`\n",
    "\n",
    "A function is a compound statement, which requires the statements in the body to be indented to the same level. Here is the complete function:"
   ]
  },
  {
   "cell_type": "code",
   "execution_count": 99,
   "metadata": {},
   "outputs": [],
   "source": [
    "def cubeVolume(sideLength) :\n",
    "    volume = sideLength ** 3\n",
    "    return volume"
   ]
  },
  {
   "cell_type": "markdown",
   "metadata": {},
   "source": [
    "### Testing a function\n",
    "\n",
    "In the preceding section, you saw how to write a function. If you run a program containing just the function definition, then nothing happens. After all, nobody is calling the function.\n",
    "\n",
    "In order to test the function, your program should contain:\n",
    "-  The definition of the function.\n",
    "-  Statements that call the function and print the result.\n",
    "\n",
    "Here is such a program:"
   ]
  },
  {
   "cell_type": "code",
   "execution_count": 100,
   "metadata": {},
   "outputs": [
    {
     "name": "stdout",
     "output_type": "stream",
     "text": [
      "A cube with side length 2 has volume 8\n",
      "A cube with side length 10 has volume 1000\n"
     ]
    }
   ],
   "source": [
    "def cubeVolume(sideLength) :\n",
    "    volume = sideLength ** 3\n",
    "    return volume\n",
    "\n",
    "result1 = cubeVolume(2)\n",
    "result2 = cubeVolume(10)\n",
    "\n",
    "print(\"A cube with side length 2 has volume\", result1)\n",
    "print(\"A cube with side length 10 has volume\", result2)"
   ]
  },
  {
   "cell_type": "markdown",
   "metadata": {},
   "source": [
    "Note that the function returns different results when it is called with different arguments. Consider the call `cubeVolume(2)`. The argument 2 corresponds to the `sideLength` parameter variable. Therefore, in this call, sideLength is 2. The function computes `sideLength ** 3`, or `2 ** 3`. When the function is called with a different argument, say 10, then the function computes `10 ** 3`.\n",
    "\n",
    "### Programs that contain functions\n",
    "\n",
    "When you write a program that contains one or more functions, you need to pay attention to the order of the function definitions and statements in the program. Have another look at the program of the preceding section. Note that it contains\n",
    "-  The definition of the `cubeVolume` function.\n",
    "-  Several statements, two of which call that function.\n",
    "\n",
    "As the Python interpreter reads the source code, it reads each function definition and each statement. The statements in a function definition are not executed until the function is called. Any statement not in a function definition, on the other hand, is executed as it is encountered. Therefore, it is important that you define each function before you call it. For example, the following will produce a compile-time error:"
   ]
  },
  {
   "cell_type": "code",
   "execution_count": 101,
   "metadata": {},
   "outputs": [
    {
     "name": "stdout",
     "output_type": "stream",
     "text": [
      "1000\n"
     ]
    }
   ],
   "source": [
    "print(cubeVolume(10))\n",
    "\n",
    "def cubeVolume(sideLength) :\n",
    "    volume = sideLength ** 3\n",
    "    return volume"
   ]
  },
  {
   "cell_type": "markdown",
   "metadata": {},
   "source": [
    "The compiler does not know that the cubeVolume function will be defined later in the program.\n",
    "\n",
    "However, a function can be called from within another function before the former has been defined. For example, the following is perfectly legal:"
   ]
  },
  {
   "cell_type": "code",
   "execution_count": 102,
   "metadata": {},
   "outputs": [
    {
     "name": "stdout",
     "output_type": "stream",
     "text": [
      "A cube with side length 2 has volume 8\n"
     ]
    }
   ],
   "source": [
    "def main() :\n",
    "    result = cubeVolume(2)\n",
    "    print(\"A cube with side length 2 has volume\", result)\n",
    "\n",
    "def cubeVolume(sideLength) :\n",
    "    volume = sideLength ** 3\n",
    "    return volume\n",
    "\n",
    "main()"
   ]
  },
  {
   "cell_type": "markdown",
   "metadata": {},
   "source": [
    "### Parameter passing\n",
    "\n",
    "When a function is called, variables are created for receiving the function’s arguments. These variables are called **parameter variables**. (Another commonly used term is **formal parameters**.) The values that are supplied to the function when it is called are the **arguments** of the call. (These values are also commonly called the **actual parameters**.) Each parameter variable is initialized with the corresponding argument.\n",
    "\n",
    "Consider the function call:"
   ]
  },
  {
   "cell_type": "code",
   "execution_count": 103,
   "metadata": {},
   "outputs": [],
   "source": [
    "result1 = cubeVolume(2)"
   ]
  },
  {
   "cell_type": "markdown",
   "metadata": {},
   "source": [
    "-  The parameter variable sideLength of the cubeVolume function is created when the function is called.\n",
    "-  The parameter variable is initialized with the value of the argument that was passed in the call. In our case, `sideLength` is set to 2.\n",
    "-  The function computes the expression `sideLength ** 3`, which has the value 8. That value is stored in the variable `volume`. \n",
    "-  The function returns. All of its variables are removed. The return value is transferred to the *caller*, that is, the function calling the `cubeVolume` function. The caller puts the return value in the `result1` variable. \n",
    "\n",
    "Now consider what happens in a subsequent call, `cubeVolume(10)`. A new parameter variable is created. (Recall that the previous parameter variable was removed when the first call to `cubeVolume` returned.) It is initialized with 10, and the process repeats. After the second function call is complete, its variables are again removed.\n",
    "\n",
    "### Return values\n",
    "\n",
    "You use the `return` statement to specify the result of a function. In the preceding examples, each `return` statement returned a variable. However, the `return` statement can return the value of any expression. Instead of saving the return value in a variable and returning the variable, it is often possible to eliminate the variable and return the value of a more complex expression:"
   ]
  },
  {
   "cell_type": "code",
   "execution_count": 104,
   "metadata": {},
   "outputs": [],
   "source": [
    "def cubeVolume(sideLength) :\n",
    "    return sideLength ** 3"
   ]
  },
  {
   "cell_type": "markdown",
   "metadata": {},
   "source": [
    "When the return statement is processed, the function exits *immediately*."
   ]
  },
  {
   "cell_type": "markdown",
   "metadata": {},
   "source": [
    "<a id=\"lambda\"></a>\n",
    "## 1.9 Lambda functions\n",
    "\n",
    "[[ go back to the top ]](#Table-of-contents)\n",
    "\n",
    "Python has support for so-called *anonymous* or *lambda functions*, which are a way of writing functions consisting of a single statement, the result of which is the return value. They are defined with the **lambda** keyword, which has no meaning other than\n",
    "\n",
    "“we are declaring an anonymous function”:\n",
    "\n",
    "Lambda functions have the form:\n",
    "\n",
    "**lambda par1, par2, ...: expression**\n",
    "\n",
    "where the expression is the value to be returned. One useful feature of lambda expressions is that they make use of variables from the function in which they are coded.\n",
    "\n",
    "> Since lambda expressions are functions without a name, they are often referred to as *anonymous functions*.\n",
    "\n",
    "The following are some examples of regular functions versus lambda functions:"
   ]
  },
  {
   "cell_type": "code",
   "execution_count": 105,
   "metadata": {},
   "outputs": [],
   "source": [
    "def short_function(x):\n",
    "    return x * 2\n",
    "\n",
    "equiv_anon = lambda x: x * 2"
   ]
  },
  {
   "cell_type": "markdown",
   "metadata": {},
   "source": [
    "In the above code, note how the **lambda** expression replaces the ordinary function. Note also that there are no `return` statements in lambda functions.\n",
    "\n",
    "Another example of a lamda function as applied on lists:"
   ]
  },
  {
   "cell_type": "code",
   "execution_count": 106,
   "metadata": {},
   "outputs": [
    {
     "data": {
      "text/plain": [
       "[8, 0, 2, 10, 12]"
      ]
     },
     "execution_count": 106,
     "metadata": {},
     "output_type": "execute_result"
    }
   ],
   "source": [
    "def apply_to_list(some_list, f):\n",
    "    return [f(x) for x in some_list]\n",
    "\n",
    "ints = [4, 0, 1, 5, 6]\n",
    "apply_to_list(ints, lambda x: x * 2)"
   ]
  },
  {
   "cell_type": "markdown",
   "metadata": {},
   "source": [
    "As another example, suppose you wanted to sort a collection of strings by the number of distinct letters in each string:"
   ]
  },
  {
   "cell_type": "code",
   "execution_count": 107,
   "metadata": {},
   "outputs": [],
   "source": [
    "strings = ['foo', 'card', 'bar', 'aaaa', 'abab']"
   ]
  },
  {
   "cell_type": "markdown",
   "metadata": {},
   "source": [
    "Here we could pass a lambda function to the list’s sort method:"
   ]
  },
  {
   "cell_type": "code",
   "execution_count": 108,
   "metadata": {},
   "outputs": [
    {
     "data": {
      "text/plain": [
       "['aaaa', 'foo', 'abab', 'bar', 'card']"
      ]
     },
     "execution_count": 108,
     "metadata": {},
     "output_type": "execute_result"
    }
   ],
   "source": [
    "strings.sort(key=lambda x: len(set(list(x))))\n",
    "strings"
   ]
  },
  {
   "cell_type": "markdown",
   "metadata": {},
   "source": [
    "The following program sorts names by their surnames. The second line sorts the list of names, and the last two lines display the contents of the sorted list."
   ]
  },
  {
   "cell_type": "code",
   "execution_count": 109,
   "metadata": {},
   "outputs": [
    {
     "name": "stdout",
     "output_type": "stream",
     "text": [
      "John Backus, James Gosling, Alan Kay, Dennis Ritchie\n"
     ]
    }
   ],
   "source": [
    "names = [\"Dennis Ritchie\", \"Alan Kay\", \"John Backus\", \"James Gosling\"]    \n",
    "names.sort(key=lambda name: name.split()[-1])\n",
    "nameString = \", \".join(names)\n",
    "print(nameString)"
   ]
  },
  {
   "cell_type": "markdown",
   "metadata": {},
   "source": [
    "> Lambda functions do not include the `return` statement. They always contain expressions that are always returned. "
   ]
  },
  {
   "cell_type": "markdown",
   "metadata": {},
   "source": [
    "<a id=\"map\"></a>\n",
    "### 1.9.1 map function\n",
    "\n",
    "[[ go back to the top ]](#Table-of-contents)\n",
    "\n",
    "The `map()` function provides an easy way to transform each item into an iterable object. The `map` function is frequently used in lambda functions that returns a list of elements. `map` requires two arguments:\n",
    "\n",
    "`r = map(function, sequence)`\n",
    "\n",
    "The first argument is the name of the function that is to be applied on the second argument, which is the name of a sequence, e.g., list, set etc. `map` will then retrurns a new list of elements of sequence that have been changed after applying the function. \n",
    "\n",
    "For example, here are efficient, compact ways to perform an operation on a sequence. Note the use of the lambda anonymous function:"
   ]
  },
  {
   "cell_type": "code",
   "execution_count": 110,
   "metadata": {},
   "outputs": [
    {
     "data": {
      "text/plain": [
       "[1, 8, 27, 64, 125, 216]"
      ]
     },
     "execution_count": 110,
     "metadata": {},
     "output_type": "execute_result"
    }
   ],
   "source": [
    "lst = [1, 2, 3, 4, 5, 6]\n",
    "list(map(lambda x: x ** 3, lst))"
   ]
  },
  {
   "cell_type": "code",
   "execution_count": 111,
   "metadata": {},
   "outputs": [
    {
     "name": "stdout",
     "output_type": "stream",
     "text": [
      "['hawk', 'hen', 'hedgehog', 'hyena', 'zebra', 'giraffe']\n"
     ]
    },
    {
     "data": {
      "text/plain": [
       "[4, 3, 8, 5, 5, 7]"
      ]
     },
     "execution_count": 111,
     "metadata": {},
     "output_type": "execute_result"
    }
   ],
   "source": [
    "animals = ['hawk', 'hen', 'hedgehog', 'hyena', 'zebra', 'giraffe']\n",
    "print(animals)\n",
    "\n",
    "list(map(lambda animal: len(animal), animals))     # apply len() to every animals item"
   ]
  },
  {
   "cell_type": "code",
   "execution_count": 112,
   "metadata": {},
   "outputs": [
    {
     "name": "stdout",
     "output_type": "stream",
     "text": [
      "[5, 6, 7, 8, 9, 10, 100, 1000, 10000]\n"
     ]
    },
    {
     "data": {
      "text/plain": [
       "[5, 6, 7, 8, 9, 0, 0, 0, 0]"
      ]
     },
     "execution_count": 112,
     "metadata": {},
     "output_type": "execute_result"
    }
   ],
   "source": [
    "numbers = [5, 6, 7, 8, 9, 10, 100, 1000, 10000]\n",
    "print(numbers)\n",
    "\n",
    "list(map(lambda n: n % 10, numbers))    "
   ]
  },
  {
   "cell_type": "code",
   "execution_count": 113,
   "metadata": {},
   "outputs": [
    {
     "name": "stdout",
     "output_type": "stream",
     "text": [
      "['Weather', 'is', 'beginning', 'to', 'change']\n"
     ]
    },
    {
     "data": {
      "text/plain": [
       "['Weather', 'is', 'beginning', 'to', 'change']"
      ]
     },
     "execution_count": 113,
     "metadata": {},
     "output_type": "execute_result"
    }
   ],
   "source": [
    "sentence = \"Weather is beginning to change\"\n",
    "words = sentence.split()\n",
    "print(words)\n",
    "\n",
    "lengths = map(lambda word: len(word), words)\n",
    "list(words)"
   ]
  },
  {
   "cell_type": "markdown",
   "metadata": {},
   "source": [
    "<a id=\"filter\"></a>\n",
    "### 1.9.2 filter function\n",
    "\n",
    "[[ go back to the top ]](#Table-of-contents)\n",
    "\n",
    "The `filter` function provides an elegant way to apply filter on lists. It accepts two arguments: `filter(function, list)`.  \n",
    "\n",
    "The first argument *function* will be applied on every element in the second argument *list*. The first argument *function* returns a **boolean** value of *True* or *False*. The elements of the *list* will only be included in the resultant list if *function* evaluates to *True*.\n",
    "\n",
    "For example,"
   ]
  },
  {
   "cell_type": "code",
   "execution_count": 114,
   "metadata": {},
   "outputs": [
    {
     "data": {
      "text/plain": [
       "['Hello', 'World', 'Python', 'Great']"
      ]
     },
     "execution_count": 114,
     "metadata": {},
     "output_type": "execute_result"
    }
   ],
   "source": [
    "words = [\"Hello\", \"World\", \"Python\", \"Great\", \"OK\"]\n",
    "resultList1 = filter(lambda s: len(s) > 2, words)\n",
    "\n",
    "list(resultList1)"
   ]
  },
  {
   "cell_type": "code",
   "execution_count": 115,
   "metadata": {},
   "outputs": [
    {
     "data": {
      "text/plain": [
       "['Soccer', 'Hockey', 'Baseball']"
      ]
     },
     "execution_count": 115,
     "metadata": {},
     "output_type": "execute_result"
    }
   ],
   "source": [
    "sports = ('Cricket', 'Soccer', 'Hockey', 'Baseball')\n",
    "resultList2 = filter(lambda w: len(w) % 2 == 0, sports)\n",
    "\n",
    "list(resultList2)"
   ]
  },
  {
   "cell_type": "code",
   "execution_count": 116,
   "metadata": {},
   "outputs": [
    {
     "data": {
      "text/plain": [
       "['Red']"
      ]
     },
     "execution_count": 116,
     "metadata": {},
     "output_type": "execute_result"
    }
   ],
   "source": [
    "colors = ('Red', 'Green', 'Blue', 'Black')\n",
    "resultList3 = filter(lambda b: len(b) < 4  , colors)\n",
    "\n",
    "list(resultList3)"
   ]
  },
  {
   "cell_type": "code",
   "execution_count": 117,
   "metadata": {},
   "outputs": [
    {
     "name": "stdout",
     "output_type": "stream",
     "text": [
      "[5, 6, 7, 8, 9, 10, 100, 1000, 10000]\n"
     ]
    },
    {
     "data": {
      "text/plain": [
       "[False, False, False, False, False, True, True, True, True]"
      ]
     },
     "execution_count": 117,
     "metadata": {},
     "output_type": "execute_result"
    }
   ],
   "source": [
    "numbers = [5, 6, 7, 8, 9, 10, 100, 1000, 10000]\n",
    "print(numbers)\n",
    "\n",
    "list(map(lambda n: n % 10 == 0, numbers))"
   ]
  },
  {
   "cell_type": "markdown",
   "metadata": {},
   "source": [
    "<a id=\"io\"></a>\n",
    "## 1.10 File Input / Output (I/O)\n",
    "\n",
    "[[ go back to the top ]](#Table-of-contents)\n",
    "\n",
    "This section explains how to perform input and output using keyboard and files. We will begin by introducing taking input from keyboard."
   ]
  },
  {
   "cell_type": "markdown",
   "metadata": {},
   "source": [
    "### Reading input from keyboard: The input function\n",
    "\n",
    "The `input` function prompts the user to enter data. A typical input statement is:"
   ]
  },
  {
   "cell_type": "code",
   "execution_count": null,
   "metadata": {},
   "outputs": [],
   "source": [
    "city = input(\"Enter the name of your city: \")\n",
    "print(city)"
   ]
  },
  {
   "cell_type": "markdown",
   "metadata": {},
   "source": [
    "When Python reaches this statement, the string \"Enter the name of your city: \" is displayed and the program pauses. After the user types in the name of his or her city and presses the Enter (or return) key, the variable town is assigned the name of the city. (If the variable had not been created previously, it is created at this time.) The general form of an input statement is:\n",
    "\n",
    "**variableName = input(prompt)**\n",
    "\n",
    "where prompt is a string that requests a response from the user.\n",
    "\n",
    "The `input` function always returns a string. However, a combination of an `input` function and an `int`, `float`, or `eval` function allows numbers to be input into a program. For instance, consider the following three statements:"
   ]
  },
  {
   "cell_type": "code",
   "execution_count": null,
   "metadata": {},
   "outputs": [],
   "source": [
    "age = int(input(\"Enter your age: \"))    #only integers are accepted\n",
    "weight = float(input(\"Enter your weight: \"))\n",
    "height = eval(input(\"Enter your height: \"))   #both integer and floating-point values are accepted"
   ]
  },
  {
   "cell_type": "markdown",
   "metadata": {},
   "source": [
    "### Files input and output \n",
    "\n",
    "We now discuss the common task of reading and writing files that contain text. Examples of text files include not only files created with a simple text editor, such as Windows Notepad, but also Python source code and HTML files.\n",
    "\n",
    "### Opening a file\n",
    "\n",
    "To access a file, you must first open it. When you open a file, you give the name of the file, or, if the file is stored in a different directory, the file name preceded by the directory path. You also specify whether the file is to be opened for reading or writing. Suppose you want to read data from a file named `input.txt`, located in the same directory as the program. Then you use the following function call to open the file:"
   ]
  },
  {
   "cell_type": "code",
   "execution_count": null,
   "metadata": {},
   "outputs": [],
   "source": [
    "infile = open(\"input.txt\", \"r\")"
   ]
  },
  {
   "cell_type": "markdown",
   "metadata": {},
   "source": [
    "This statement opens the file for reading (indicated by the string argument \"r\") and returns a *file object* that is associated with the file named `input.txt`. When opening a file for reading, the file must exist or an exception occurs. \n",
    "\n",
    "The file object returned by the `open` function must be saved in a variable. All operations for accessing a file are made via the file object. To open a file for writing, you provide the name of the file as the first argument to the open function and the string \"w\" as the second argument:"
   ]
  },
  {
   "cell_type": "code",
   "execution_count": null,
   "metadata": {},
   "outputs": [],
   "source": [
    "outfile = open(\"output.txt\", \"w\")"
   ]
  },
  {
   "cell_type": "markdown",
   "metadata": {},
   "source": [
    "If the output file already exists, it is emptied before the new data is written into it. If the file does not exist, an empty file is created. When you are done processing a file, be sure to close the file using the **close** method:"
   ]
  },
  {
   "cell_type": "code",
   "execution_count": null,
   "metadata": {},
   "outputs": [],
   "source": [
    "infile.close()\n",
    "outfile.close()"
   ]
  },
  {
   "cell_type": "markdown",
   "metadata": {},
   "source": [
    "After a file has been closed, it cannot be used again until it has been reopened. Attempting to do so will result in an exception.\n",
    "\n",
    "### Reading from a file\n",
    "\n",
    "To read a line of text from a file, call the `readline` method on the `file` object that was returned when you opened the file:"
   ]
  },
  {
   "cell_type": "code",
   "execution_count": null,
   "metadata": {},
   "outputs": [],
   "source": [
    "infile = open(\"input.txt\", \"r\")\n",
    "line = infile.readline()    #read the first line from the file\n",
    "\n",
    "print(line)\n",
    "infile.close()"
   ]
  },
  {
   "cell_type": "markdown",
   "metadata": {},
   "source": [
    "When a file is opened, an input marker is positioned at the beginning of the file. The `readline` method reads the text, starting at the current position and continuing until the end of the line is encountered. The input marker is then moved to the next line. The `readline` method returns the text that it read, including the newline character that denotes the end of the line.\n",
    "\n",
    "Reading multiple lines of text from a file is very similar to reading a sequence of values with the input function. You repeatedly read a line of text and process it until the sentinel value is reached:"
   ]
  },
  {
   "cell_type": "code",
   "execution_count": null,
   "metadata": {},
   "outputs": [],
   "source": [
    "infile = open(\"input.txt\", \"r\")\n",
    "line = infile.readline()\n",
    "\n",
    "while line != \"\" :\n",
    "    # Process the line.\n",
    "    print(line)\n",
    "    line = infile.readline()   \n",
    "infile.close()"
   ]
  },
  {
   "cell_type": "markdown",
   "metadata": {},
   "source": [
    "The sentinel value is an empty string, which is returned by the `readline` method after the end of file has been reached.\n",
    "\n",
    "### Writing to a file\n",
    "\n",
    "You can write text to a file that has been opened for writing. This is done by applying the `write` method to the `file` object. For example, we can write the string \"Hello, World! from Python\" to our output file using the statement:"
   ]
  },
  {
   "cell_type": "code",
   "execution_count": null,
   "metadata": {},
   "outputs": [],
   "source": [
    "outfile = open(\"output.txt\", \"w\")\n",
    "outfile.write(\"Hello, World! from Python\\n\")\n",
    "outfile.close()"
   ]
  },
  {
   "cell_type": "markdown",
   "metadata": {},
   "source": [
    "### Iterating over the lines of a file\n",
    "\n",
    "You have seen how to read a file one line at a time. However, there is a simpler way. Python can treat an input file as though it were a container of strings in which each line is an individual string. To read the lines of text from the file, you can iterate over the file object using a for loop.\n",
    "\n",
    "For example, the following loop reads all lines from a file and prints them:"
   ]
  },
  {
   "cell_type": "code",
   "execution_count": null,
   "metadata": {},
   "outputs": [],
   "source": [
    "infile = open(\"input.txt\", \"r\")\n",
    "\n",
    "for line in infile :\n",
    "    print(line)\n",
    "    \n",
    "infile.close()"
   ]
  },
  {
   "cell_type": "markdown",
   "metadata": {},
   "source": [
    "### Binary files and random access\n",
    "\n",
    "In the following section, you will learn how to process files that contain data other than text. You will also see how to read and write data at arbitrary positions in a file.\n",
    "\n",
    "### Reading and writing binary files\n",
    "\n",
    "There are two fundamentally different ways to store data: in text format or binary format. In text format, data items are represented in human-readable form as a sequence of characters. For example, in text form, the integer 12,345 is stored as the\n",
    "sequence of five characters:\n",
    "\n",
    "\"1\" \"2\" \"3\" \"4\" \"5\"\n",
    "\n",
    "In binary form, data items are represented in bytes. A byte is composed of 8 bits, each of which can be 0 or 1. A byte can denote one of 256 values. To represent larger values, one uses sequences of bytes. Integers are frequently stored as a\n",
    "sequence of four bytes. For example, the integer 123,456 can be stored as:\n",
    "\n",
    "64 226 1 0 \n",
    "\n",
    "If you load a binary file into a text editor, you will not be able to view its contents. Processing binary files requires programs written explicitly for reading or writing the binary data.\n",
    "\n",
    "We have to cover a few technical issues about binary files. To open a binary file for reading, use the following command:\n",
    "\n",
    "`inFile = open(filename, \"rb\")`\n",
    "\n",
    "Remember, the second argument to the open function indicates the mode in which the file will be opened. In this example, the mode string indicates that we are opening a binary file for reading. To open a binary file for writing, you would use the mode\n",
    "string \"wb\":\n",
    "\n",
    "`outFile = open(filename, \"wb\")`\n",
    "\n",
    "### Random access\n",
    "\n",
    "So far, you’ve read from a file one string at a time and written to a file one string at a time, without skipping forward or\n",
    "backward. That access pattern is called **sequential access**. In many applications, we would like to access specific items in\n",
    "a file without first having to first read all preceding items. This access pattern is called **random access**. There is nothing “random” about random access—the term means that you can read and modify any item stored at any location in the file.\n",
    "\n",
    "Each file has a special marker that indicates the current position within the file. This marker is used to determine where\n",
    "the next string is read or written. You can move the file marker to a specific position within the file. To position the marker relative to the beginning of the file, you use the method call:\n",
    "\n",
    "`inFile.seek(position)`\n",
    "\n",
    "To determine the current position of the file marker (counted from the beginning of the file), use:\n",
    "\n",
    "`position = inFile.tell() # Get current position.`\n",
    "\n",
    "For example,"
   ]
  },
  {
   "cell_type": "code",
   "execution_count": null,
   "metadata": {},
   "outputs": [],
   "source": [
    "infile = open(\"input.txt\", \"r\")\n",
    "\n",
    "str = infile.read(10)   #read the first 10 characters\n",
    "print(\"Read string is: \", str)\n",
    "    \n",
    "pos = infile.tell()    #get the current position\n",
    "print(\"Current position is: \", pos)\n",
    "\n",
    "pos = infile.seek(0, 0)   #reposition the pointer at the beginning of the file\n",
    "str = infile.read(30)\n",
    "\n",
    "print(\"Read string is: \", str)\n",
    "    \n",
    "infile.close()"
   ]
  }
 ],
 "metadata": {
  "kernelspec": {
   "display_name": "Python 3 (ipykernel)",
   "language": "python",
   "name": "python3"
  },
  "language_info": {
   "codemirror_mode": {
    "name": "ipython",
    "version": 3
   },
   "file_extension": ".py",
   "mimetype": "text/x-python",
   "name": "python",
   "nbconvert_exporter": "python",
   "pygments_lexer": "ipython3",
   "version": "3.8.18"
  }
 },
 "nbformat": 4,
 "nbformat_minor": 1
}
