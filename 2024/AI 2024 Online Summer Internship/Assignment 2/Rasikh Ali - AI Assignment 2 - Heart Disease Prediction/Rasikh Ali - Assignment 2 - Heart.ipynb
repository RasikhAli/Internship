{
 "cells": [
  {
   "cell_type": "markdown",
   "id": "20848a2c",
   "metadata": {},
   "source": [
    "# AI 2024 Online Summer Internship\n",
    "### Name: Rasikh Ali\n",
    "### Email: rasikhali1234@gmail.com"
   ]
  },
  {
   "cell_type": "markdown",
   "id": "10eeb343",
   "metadata": {},
   "source": [
    "## System & Libraries\n",
    "<div class=\"alert alert-block alert-success\">\n",
    "    Using <b>Python </b> v3.8.18\n",
    "    <br>\n",
    "    with <b>Jupyter </b> v7.4.9\n",
    "</div>\n",
    "<div class=\"alert alert-block alert-info\">\n",
    "    \n",
    "|    Libarries    | Version |     Purpose     |\n",
    "|-----------------|---------|-----------------|\n",
    "|Pandas           | v1.4.2  | Used for Data Manipulation and Analysis | \n",
    "|Numpy            | v1.23.5 | Used for Array Manipulation             |\n",
    "|Pickle           | v4.0    | Used for Saving and Loading Model       |\n",
    "|LabelEncoder     |         | Used for Encoding Categorical Features  |\n",
    "|SVM              |         | Classifier for Classification, Regression, Outlier Detection  |\n",
    "|Accuracy_Score   |         | Used for Calculating Accuracy Score of a Model                |\n",
    "|Train_Test_Split |         | Used for Splitting array/matrices into train,test subsets     |\n",
    "    \n",
    "</div>"
   ]
  },
  {
   "cell_type": "code",
   "execution_count": 170,
   "id": "4ddafd75",
   "metadata": {},
   "outputs": [],
   "source": [
    "import pandas as pd\n",
    "import numpy as np\n",
    "import pickle\n",
    "\n",
    "from sklearn.svm import SVC\n",
    "from sklearn.metrics import accuracy_score\n",
    "from sklearn.preprocessing import LabelEncoder\n",
    "from sklearn.model_selection import train_test_split"
   ]
  },
  {
   "cell_type": "markdown",
   "id": "b3aa98d9",
   "metadata": {},
   "source": [
    "## Loading Dataset"
   ]
  },
  {
   "cell_type": "code",
   "execution_count": 171,
   "id": "69d6fe48",
   "metadata": {},
   "outputs": [
    {
     "data": {
      "text/html": [
       "<div>\n",
       "<style scoped>\n",
       "    .dataframe tbody tr th:only-of-type {\n",
       "        vertical-align: middle;\n",
       "    }\n",
       "\n",
       "    .dataframe tbody tr th {\n",
       "        vertical-align: top;\n",
       "    }\n",
       "\n",
       "    .dataframe thead th {\n",
       "        text-align: right;\n",
       "    }\n",
       "</style>\n",
       "<table border=\"1\" class=\"dataframe\">\n",
       "  <thead>\n",
       "    <tr style=\"text-align: right;\">\n",
       "      <th></th>\n",
       "      <th>age</th>\n",
       "      <th>sex</th>\n",
       "      <th>cp</th>\n",
       "      <th>trestbps</th>\n",
       "      <th>chol</th>\n",
       "      <th>fbs</th>\n",
       "      <th>restecg</th>\n",
       "      <th>thalach</th>\n",
       "      <th>exang</th>\n",
       "      <th>oldpeak</th>\n",
       "      <th>slope</th>\n",
       "      <th>ca</th>\n",
       "      <th>thal</th>\n",
       "      <th>target</th>\n",
       "    </tr>\n",
       "  </thead>\n",
       "  <tbody>\n",
       "    <tr>\n",
       "      <th>0</th>\n",
       "      <td>63</td>\n",
       "      <td>1</td>\n",
       "      <td>3</td>\n",
       "      <td>145</td>\n",
       "      <td>233</td>\n",
       "      <td>1</td>\n",
       "      <td>0</td>\n",
       "      <td>150</td>\n",
       "      <td>0</td>\n",
       "      <td>2.3</td>\n",
       "      <td>0</td>\n",
       "      <td>0</td>\n",
       "      <td>1</td>\n",
       "      <td>1</td>\n",
       "    </tr>\n",
       "    <tr>\n",
       "      <th>1</th>\n",
       "      <td>37</td>\n",
       "      <td>1</td>\n",
       "      <td>2</td>\n",
       "      <td>130</td>\n",
       "      <td>250</td>\n",
       "      <td>0</td>\n",
       "      <td>1</td>\n",
       "      <td>187</td>\n",
       "      <td>0</td>\n",
       "      <td>3.5</td>\n",
       "      <td>0</td>\n",
       "      <td>0</td>\n",
       "      <td>2</td>\n",
       "      <td>1</td>\n",
       "    </tr>\n",
       "    <tr>\n",
       "      <th>2</th>\n",
       "      <td>41</td>\n",
       "      <td>0</td>\n",
       "      <td>1</td>\n",
       "      <td>130</td>\n",
       "      <td>204</td>\n",
       "      <td>0</td>\n",
       "      <td>0</td>\n",
       "      <td>172</td>\n",
       "      <td>0</td>\n",
       "      <td>1.4</td>\n",
       "      <td>2</td>\n",
       "      <td>0</td>\n",
       "      <td>2</td>\n",
       "      <td>1</td>\n",
       "    </tr>\n",
       "    <tr>\n",
       "      <th>3</th>\n",
       "      <td>56</td>\n",
       "      <td>1</td>\n",
       "      <td>1</td>\n",
       "      <td>120</td>\n",
       "      <td>236</td>\n",
       "      <td>0</td>\n",
       "      <td>1</td>\n",
       "      <td>178</td>\n",
       "      <td>0</td>\n",
       "      <td>0.8</td>\n",
       "      <td>2</td>\n",
       "      <td>0</td>\n",
       "      <td>2</td>\n",
       "      <td>1</td>\n",
       "    </tr>\n",
       "    <tr>\n",
       "      <th>4</th>\n",
       "      <td>57</td>\n",
       "      <td>0</td>\n",
       "      <td>0</td>\n",
       "      <td>120</td>\n",
       "      <td>354</td>\n",
       "      <td>0</td>\n",
       "      <td>1</td>\n",
       "      <td>163</td>\n",
       "      <td>1</td>\n",
       "      <td>0.6</td>\n",
       "      <td>2</td>\n",
       "      <td>0</td>\n",
       "      <td>2</td>\n",
       "      <td>1</td>\n",
       "    </tr>\n",
       "  </tbody>\n",
       "</table>\n",
       "</div>"
      ],
      "text/plain": [
       "   age  sex  cp  trestbps  chol  fbs  restecg  thalach  exang  oldpeak  slope  \\\n",
       "0   63    1   3       145   233    1        0      150      0      2.3      0   \n",
       "1   37    1   2       130   250    0        1      187      0      3.5      0   \n",
       "2   41    0   1       130   204    0        0      172      0      1.4      2   \n",
       "3   56    1   1       120   236    0        1      178      0      0.8      2   \n",
       "4   57    0   0       120   354    0        1      163      1      0.6      2   \n",
       "\n",
       "   ca  thal  target  \n",
       "0   0     1       1  \n",
       "1   0     2       1  \n",
       "2   0     2       1  \n",
       "3   0     2       1  \n",
       "4   0     2       1  "
      ]
     },
     "execution_count": 171,
     "metadata": {},
     "output_type": "execute_result"
    }
   ],
   "source": [
    "sample_data = pd.read_csv('dataset/heart-disease-sample-data.csv')\n",
    "sample_data.head()"
   ]
  },
  {
   "cell_type": "markdown",
   "id": "d9d3ca3e",
   "metadata": {},
   "source": [
    "## Understanding Dataset"
   ]
  },
  {
   "cell_type": "markdown",
   "id": "5ed1338a",
   "metadata": {},
   "source": [
    "<div class=\"alert alert-block alert-info\">\n",
    "About <b>Dataset</b>.\n",
    "\n",
    "| Attributes | Description  |\n",
    "|------------|--------------|                                                                                                       \n",
    "|age         | Patient's age                                                                                                                                                         |\n",
    "|sex         | Patient's Gender  (1 = male, 0 = female)                                                                                                                              |\n",
    "|cp          | Chest Pain type  (0, 1, 2, 3)                                                                                                                                         |\n",
    "|trestbps    | Resting Blood Pressure (in mm Hg)                                                                                                                                     |\n",
    "|chol        | Serum Cholestoral in mg/dl                                                                                                                                            |\n",
    "|fbs         | Fasting Blood Sugar > 120 mg/dl (1 = true, 0 = false)                                                                                                                 |\n",
    "|restecg     | Resting Electrocardiographic Results  (0 = normal, 1 = having ST-T wave abnormality, 2 = showing probable or definite left ventricular hypertrophy)                   |\n",
    "|thalach     | Maximum heart rate achieved during exercise                                                                                                                           |\n",
    "|exang       | Exercise induced angina (1 = yes, 0 = no)                                                                                                                             |\n",
    "|oldpeak     | ST depression induced by exercise relative to rest                                                                                                                    |\n",
    "|slope       | Slope of the peak exercise ST segment (0 = upsloping, 1 = flat, 2 = downsloping)                                                                                      |\n",
    "|ca          | Number of major vessels (0-3) colored by fluoroscopy                                                                                                                  |\n",
    "|thal        | Thalassemia (3 = normal, 6 = fixed defect, 7 = reversible defect)                                                                                                     |\n",
    "|target      | Presence or absence of heart disease (1 = presence, 2 = absesence)                                                                                                    |\n",
    "\n",
    "</div>\n"
   ]
  },
  {
   "cell_type": "code",
   "execution_count": 172,
   "id": "766c7cfa",
   "metadata": {},
   "outputs": [
    {
     "name": "stdout",
     "output_type": "stream",
     "text": [
      "-- Attributes in Sample Data --\n",
      "age\n",
      "sex\n",
      "cp\n",
      "trestbps\n",
      "chol\n",
      "fbs\n",
      "restecg\n",
      "thalach\n",
      "exang\n",
      "oldpeak\n",
      "slope\n",
      "ca\n",
      "thal\n",
      "target\n"
     ]
    }
   ],
   "source": [
    "print(\"-- Attributes in Sample Data --\")\n",
    "for cols in sample_data.columns:\n",
    "    print(cols)"
   ]
  },
  {
   "cell_type": "code",
   "execution_count": 173,
   "id": "b24ea017",
   "metadata": {
    "scrolled": true
   },
   "outputs": [
    {
     "name": "stdout",
     "output_type": "stream",
     "text": [
      "-- Number of instances in Sample Data --\n",
      "age         100\n",
      "sex         100\n",
      "cp          100\n",
      "trestbps    100\n",
      "chol        100\n",
      "fbs         100\n",
      "restecg     100\n",
      "thalach     100\n",
      "exang       100\n",
      "oldpeak     100\n",
      "slope       100\n",
      "ca          100\n",
      "thal        100\n",
      "target      100\n",
      "dtype: int64\n"
     ]
    }
   ],
   "source": [
    "print(\"-- Number of instances in Sample Data --\")\n",
    "print(sample_data.count())"
   ]
  },
  {
   "cell_type": "code",
   "execution_count": 174,
   "id": "7ec8e6d9",
   "metadata": {},
   "outputs": [
    {
     "name": "stdout",
     "output_type": "stream",
     "text": [
      "-- Number of Unique Values in Sample Data --\n",
      "age         33\n",
      "sex          2\n",
      "cp           4\n",
      "trestbps    23\n",
      "chol        78\n",
      "fbs          2\n",
      "restecg      2\n",
      "thalach     53\n",
      "exang        2\n",
      "oldpeak     27\n",
      "slope        3\n",
      "ca           4\n",
      "thal         4\n",
      "target       2\n",
      "dtype: int64\n"
     ]
    }
   ],
   "source": [
    "print(\"-- Number of Unique Values in Sample Data --\")\n",
    "print(sample_data.nunique())"
   ]
  },
  {
   "cell_type": "code",
   "execution_count": 175,
   "id": "7f1211cf",
   "metadata": {},
   "outputs": [
    {
     "name": "stdout",
     "output_type": "stream",
     "text": [
      "-- Number of Null Values in Sample Data --\n",
      "age         0\n",
      "sex         0\n",
      "cp          0\n",
      "trestbps    0\n",
      "chol        0\n",
      "fbs         0\n",
      "restecg     0\n",
      "thalach     0\n",
      "exang       0\n",
      "oldpeak     0\n",
      "slope       0\n",
      "ca          0\n",
      "thal        0\n",
      "target      0\n",
      "dtype: int64\n"
     ]
    }
   ],
   "source": [
    "print(\"-- Number of Null Values in Sample Data --\")\n",
    "print(sample_data.isnull().sum())"
   ]
  },
  {
   "cell_type": "code",
   "execution_count": 176,
   "id": "2119e8b5",
   "metadata": {
    "scrolled": true
   },
   "outputs": [
    {
     "name": "stdout",
     "output_type": "stream",
     "text": [
      "-- Insights of Sample Data --\n",
      "<class 'pandas.core.frame.DataFrame'>\n",
      "RangeIndex: 100 entries, 0 to 99\n",
      "Data columns (total 14 columns):\n",
      " #   Column    Non-Null Count  Dtype  \n",
      "---  ------    --------------  -----  \n",
      " 0   age       100 non-null    int64  \n",
      " 1   sex       100 non-null    int64  \n",
      " 2   cp        100 non-null    int64  \n",
      " 3   trestbps  100 non-null    int64  \n",
      " 4   chol      100 non-null    int64  \n",
      " 5   fbs       100 non-null    int64  \n",
      " 6   restecg   100 non-null    int64  \n",
      " 7   thalach   100 non-null    int64  \n",
      " 8   exang     100 non-null    int64  \n",
      " 9   oldpeak   100 non-null    float64\n",
      " 10  slope     100 non-null    int64  \n",
      " 11  ca        100 non-null    int64  \n",
      " 12  thal      100 non-null    int64  \n",
      " 13  target    100 non-null    int64  \n",
      "dtypes: float64(1), int64(13)\n",
      "memory usage: 11.1 KB\n"
     ]
    }
   ],
   "source": [
    "print(\"-- Insights of Sample Data --\")\n",
    "sample_data.info()"
   ]
  },
  {
   "cell_type": "markdown",
   "id": "dba11e0f",
   "metadata": {},
   "source": [
    "## Pre-Processing"
   ]
  },
  {
   "cell_type": "markdown",
   "id": "be561e22",
   "metadata": {},
   "source": [
    "#### Managing Null Values"
   ]
  },
  {
   "cell_type": "markdown",
   "id": "d8c232c0",
   "metadata": {},
   "source": [
    "<div class=\"alert alert-block alert-success\">\n",
    "    As None of the Attribute have any null value, we'll skip it\n",
    "</div>"
   ]
  },
  {
   "cell_type": "code",
   "execution_count": 177,
   "id": "c4a0f005",
   "metadata": {},
   "outputs": [],
   "source": [
    "sample_data['oldpeak'] = sample_data['oldpeak'].astype(int)"
   ]
  },
  {
   "cell_type": "markdown",
   "id": "a4c0613f",
   "metadata": {},
   "source": [
    "<div class=\"alert alert-block alert-success\">\n",
    "Selecting 4 <b>most discriminating</b> Input Attributes, so we'll be dropping \n",
    "</div>"
   ]
  },
  {
   "cell_type": "code",
   "execution_count": 178,
   "id": "cfcd671d",
   "metadata": {},
   "outputs": [],
   "source": [
    "cols = ['age','trestbps','chol','thalach','exang','oldpeak','slope','ca','thal']\n",
    "selected_data = sample_data.drop(columns=cols)"
   ]
  },
  {
   "cell_type": "markdown",
   "id": "ce2aa99f",
   "metadata": {},
   "source": [
    "## Label Encoding"
   ]
  },
  {
   "cell_type": "markdown",
   "id": "fb1351e8",
   "metadata": {},
   "source": [
    "<div class=\"alert alert-block alert-success\">\n",
    "    As all the Attributes already in Numberical Representation, there's <b>No Need</b> For label encoding\n",
    "</div>"
   ]
  },
  {
   "cell_type": "markdown",
   "id": "f51b8c71",
   "metadata": {},
   "source": [
    "## Training Phase"
   ]
  },
  {
   "cell_type": "code",
   "execution_count": 179,
   "id": "1e571904",
   "metadata": {},
   "outputs": [
    {
     "name": "stdout",
     "output_type": "stream",
     "text": [
      "-- Insights of Sample Data --\n",
      "<class 'pandas.core.frame.DataFrame'>\n",
      "RangeIndex: 100 entries, 0 to 99\n",
      "Data columns (total 5 columns):\n",
      " #   Column   Non-Null Count  Dtype\n",
      "---  ------   --------------  -----\n",
      " 0   sex      100 non-null    int64\n",
      " 1   cp       100 non-null    int64\n",
      " 2   fbs      100 non-null    int64\n",
      " 3   restecg  100 non-null    int64\n",
      " 4   target   100 non-null    int64\n",
      "dtypes: int64(5)\n",
      "memory usage: 4.0 KB\n"
     ]
    }
   ],
   "source": [
    "print(\"-- Insights of Sample Data --\")\n",
    "selected_data.info()"
   ]
  },
  {
   "cell_type": "markdown",
   "id": "55a1d25b",
   "metadata": {},
   "source": [
    "#### Splitting data into train/test "
   ]
  },
  {
   "cell_type": "markdown",
   "id": "94dd065c",
   "metadata": {},
   "source": [
    "<div class=\"alert alert-block alert-info\">\n",
    "    Splitting data into train-test: Training = <b>80%</b> and Testing = <b>20%</b>.\n",
    "</div>"
   ]
  },
  {
   "cell_type": "code",
   "execution_count": 181,
   "id": "9fdef232",
   "metadata": {},
   "outputs": [],
   "source": [
    "# Providing random state and shuffle=True \n",
    "# because the dataset is sorted on \"Target\" and we want to provide variety of data for training, not same data\n",
    "\n",
    "training_data, testing_data = train_test_split(selected_data, test_size=0.2, random_state=0, shuffle=True)"
   ]
  },
  {
   "cell_type": "code",
   "execution_count": 182,
   "id": "bec34279",
   "metadata": {},
   "outputs": [],
   "source": [
    "# Save the train and test data into CSV files\n",
    "training_data.to_csv(r'training-data.csv', index = False, header = True)\n",
    "testing_data.to_csv(r'testing-data.csv', index = False, header = True)"
   ]
  },
  {
   "cell_type": "code",
   "execution_count": 183,
   "id": "4d2bb2c1",
   "metadata": {
    "scrolled": true
   },
   "outputs": [
    {
     "name": "stdout",
     "output_type": "stream",
     "text": [
      "-- Training Data --\n",
      "    sex  cp  fbs  restecg  target\n",
      "43    0   0    0        0       1\n",
      "62    1   2    0        1       0\n",
      "3     1   1    0        1       1\n",
      "71    1   0    0        1       0\n",
      "45    1   1    0        1       1\n",
      "48    0   2    0        0       1\n",
      "6     0   1    0        0       1\n",
      "99    1   0    1        0       0\n",
      "82    1   0    1        1       0\n",
      "76    1   0    0        0       0\n",
      "60    1   0    0        0       0\n",
      "80    1   0    0        0       0\n",
      "90    1   0    0        1       0\n",
      "68    1   2    0        0       0\n",
      "51    1   0    0        0       0\n",
      "27    1   2    0        1       1\n",
      "18    1   0    0        1       1\n",
      "56    1   1    0        1       0\n",
      "63    1   0    0        0       0\n",
      "74    1   0    0        0       0\n",
      "1     1   2    0        1       1\n",
      "61    1   0    1        1       0\n",
      "42    1   0    0        0       1\n",
      "41    1   1    0        0       1\n",
      "4     0   0    0        1       1\n",
      "15    0   2    0        1       1\n",
      "17    0   3    0        1       1\n",
      "40    0   2    0        0       1\n",
      "38    0   2    0        1       1\n",
      "5     1   0    0        1       1\n",
      "91    1   0    0        0       0\n",
      "59    1   0    0        0       0\n",
      "0     1   3    1        0       1\n",
      "34    1   3    0        0       1\n",
      "28    0   2    1        0       1\n",
      "50    1   0    0        0       0\n",
      "11    0   2    0        1       1\n",
      "35    0   2    0        0       1\n",
      "23    1   2    1        1       1\n",
      "52    0   0    0        0       0\n",
      "10    1   0    0        1       1\n",
      "31    1   0    0        1       1\n",
      "66    0   0    0        0       0\n",
      "57    1   1    0        0       0\n",
      "79    1   2    0        0       0\n",
      "85    1   0    0        0       0\n",
      "32    1   1    0        0       1\n",
      "84    1   0    0        0       0\n",
      "14    0   3    1        0       1\n",
      "89    0   0    0        0       0\n",
      "19    0   3    0        1       1\n",
      "29    1   2    1        0       1\n",
      "49    0   0    0        0       1\n",
      "97    1   0    0        1       0\n",
      "98    0   0    0        0       0\n",
      "69    1   0    0        0       0\n",
      "20    1   0    0        1       1\n",
      "94    1   0    0        1       0\n",
      "72    1   0    0        0       0\n",
      "77    1   0    0        1       0\n",
      "25    0   1    0        1       1\n",
      "37    1   2    0        0       1\n",
      "81    1   2    0        1       0\n",
      "46    1   2    0        0       1\n",
      "39    0   2    0        0       1\n",
      "65    1   0    0        1       0\n",
      "58    1   2    0        0       0\n",
      "12    1   1    0        1       1\n",
      "88    1   2    1        0       0\n",
      "70    1   0    0        0       0\n",
      "87    1   0    0        0       0\n",
      "36    0   2    1        1       1\n",
      "21    1   2    0        1       1\n",
      "83    1   0    0        1       0\n",
      "9     1   2    0        1       1\n",
      "96    1   0    0        1       0\n",
      "67    0   0    0        0       0\n",
      "64    1   0    0        0       0\n",
      "47    1   2    0        0       1\n",
      "44    1   2    0        0       1\n"
     ]
    }
   ],
   "source": [
    "# Printing Training Data\n",
    "print(\"-- Training Data --\")\n",
    "pd.set_option(\"display.max_rows\", None, \"display.max_columns\", None)\n",
    "print(training_data)"
   ]
  },
  {
   "cell_type": "code",
   "execution_count": 184,
   "id": "7e2d5e00",
   "metadata": {
    "scrolled": true
   },
   "outputs": [
    {
     "name": "stdout",
     "output_type": "stream",
     "text": [
      "-- Testing Data --\n",
      "    sex  cp  fbs  restecg  target\n",
      "26    1   2    1        1       1\n",
      "86    1   0    0        0       0\n",
      "2     0   1    0        0       1\n",
      "55    1   2    1        0       0\n",
      "75    0   0    0        1       0\n",
      "93    1   2    0        1       0\n",
      "16    0   2    0        1       1\n",
      "73    1   2    0        1       0\n",
      "54    1   0    1        0       0\n",
      "95    1   2    0        0       0\n",
      "53    1   0    0        0       0\n",
      "92    0   0    0        0       0\n",
      "78    1   0    0        0       0\n",
      "13    1   3    0        0       1\n",
      "7     1   1    0        1       1\n",
      "30    0   1    0        1       1\n",
      "22    1   0    0        1       1\n",
      "24    1   3    0        1       1\n",
      "33    1   2    0        0       1\n",
      "8     1   2    1        1       1\n"
     ]
    }
   ],
   "source": [
    "# Printing Testing Data\n",
    "print(\"-- Testing Data --\")\n",
    "pd.set_option(\"display.max_rows\", None, \"display.max_columns\", None)\n",
    "print(testing_data)"
   ]
  },
  {
   "cell_type": "markdown",
   "id": "050968c1",
   "metadata": {},
   "source": [
    "#### Splitting Input Vector and Output of Training Data"
   ]
  },
  {
   "cell_type": "markdown",
   "id": "e2447107",
   "metadata": {},
   "source": [
    "<div class=\"alert alert-block alert-info\">\n",
    "    Splitting <b>Input (x)</b> Vector and <b>Output (y)</b> of Training Data.\n",
    "</div>"
   ]
  },
  {
   "cell_type": "code",
   "execution_count": 185,
   "id": "4e871d9a",
   "metadata": {},
   "outputs": [
    {
     "data": {
      "text/html": [
       "<div>\n",
       "<style scoped>\n",
       "    .dataframe tbody tr th:only-of-type {\n",
       "        vertical-align: middle;\n",
       "    }\n",
       "\n",
       "    .dataframe tbody tr th {\n",
       "        vertical-align: top;\n",
       "    }\n",
       "\n",
       "    .dataframe thead th {\n",
       "        text-align: right;\n",
       "    }\n",
       "</style>\n",
       "<table border=\"1\" class=\"dataframe\">\n",
       "  <thead>\n",
       "    <tr style=\"text-align: right;\">\n",
       "      <th></th>\n",
       "      <th>sex</th>\n",
       "      <th>cp</th>\n",
       "      <th>fbs</th>\n",
       "      <th>restecg</th>\n",
       "    </tr>\n",
       "  </thead>\n",
       "  <tbody>\n",
       "    <tr>\n",
       "      <th>43</th>\n",
       "      <td>0</td>\n",
       "      <td>0</td>\n",
       "      <td>0</td>\n",
       "      <td>0</td>\n",
       "    </tr>\n",
       "    <tr>\n",
       "      <th>62</th>\n",
       "      <td>1</td>\n",
       "      <td>2</td>\n",
       "      <td>0</td>\n",
       "      <td>1</td>\n",
       "    </tr>\n",
       "    <tr>\n",
       "      <th>3</th>\n",
       "      <td>1</td>\n",
       "      <td>1</td>\n",
       "      <td>0</td>\n",
       "      <td>1</td>\n",
       "    </tr>\n",
       "    <tr>\n",
       "      <th>71</th>\n",
       "      <td>1</td>\n",
       "      <td>0</td>\n",
       "      <td>0</td>\n",
       "      <td>1</td>\n",
       "    </tr>\n",
       "    <tr>\n",
       "      <th>45</th>\n",
       "      <td>1</td>\n",
       "      <td>1</td>\n",
       "      <td>0</td>\n",
       "      <td>1</td>\n",
       "    </tr>\n",
       "  </tbody>\n",
       "</table>\n",
       "</div>"
      ],
      "text/plain": [
       "    sex  cp  fbs  restecg\n",
       "43    0   0    0        0\n",
       "62    1   2    0        1\n",
       "3     1   1    0        1\n",
       "71    1   0    0        1\n",
       "45    1   1    0        1"
      ]
     },
     "execution_count": 185,
     "metadata": {},
     "output_type": "execute_result"
    }
   ],
   "source": [
    "train_x = training_data.iloc[:, :-1]\n",
    "train_x.head()"
   ]
  },
  {
   "cell_type": "code",
   "execution_count": 186,
   "id": "f85914a3",
   "metadata": {},
   "outputs": [
    {
     "data": {
      "text/plain": [
       "43    1\n",
       "62    0\n",
       "3     1\n",
       "71    0\n",
       "45    1\n",
       "Name: target, dtype: int64"
      ]
     },
     "execution_count": 186,
     "metadata": {},
     "output_type": "execute_result"
    }
   ],
   "source": [
    "train_y = training_data.iloc[:, -1]\n",
    "train_y.head()"
   ]
  },
  {
   "cell_type": "markdown",
   "id": "c5b6752a",
   "metadata": {},
   "source": [
    "#### Training Model Using Support Vector Classifier"
   ]
  },
  {
   "cell_type": "code",
   "execution_count": 187,
   "id": "1746e2da",
   "metadata": {},
   "outputs": [
    {
     "name": "stdout",
     "output_type": "stream",
     "text": [
      "-- Training using SVC on Training Data --\n",
      "-- Parameters & Values: SVC(gamma='auto', random_state=0)\n"
     ]
    }
   ],
   "source": [
    "print(\"-- Training using SVC on Training Data --\")\n",
    "print(\"-- Parameters & Values: \", end='')\n",
    "\n",
    "model_svc = SVC(gamma='auto', random_state=0)\n",
    "model_svc.fit(train_x, np.ravel(train_y))\n",
    "\n",
    "print(model_svc)"
   ]
  },
  {
   "cell_type": "code",
   "execution_count": 188,
   "id": "fb4ea9f4",
   "metadata": {},
   "outputs": [],
   "source": [
    "# Saving Trained Model\n",
    "pickle.dump(model_svc, open('model_svc.pkl', 'wb'))"
   ]
  },
  {
   "cell_type": "markdown",
   "id": "7353be72",
   "metadata": {},
   "source": [
    "## Testing Phase"
   ]
  },
  {
   "cell_type": "markdown",
   "id": "da7a347a",
   "metadata": {},
   "source": [
    "#### Splitting Input Vector and Output of Testing Data"
   ]
  },
  {
   "cell_type": "markdown",
   "id": "fbb0f723",
   "metadata": {},
   "source": [
    "<div class=\"alert alert-block alert-info\">\n",
    "    Splitting <b>Input (x)</b> Vector and <b>Output (y)</b> of Testing Data.\n",
    "</div>"
   ]
  },
  {
   "cell_type": "code",
   "execution_count": 189,
   "id": "48206e63",
   "metadata": {},
   "outputs": [
    {
     "data": {
      "text/html": [
       "<div>\n",
       "<style scoped>\n",
       "    .dataframe tbody tr th:only-of-type {\n",
       "        vertical-align: middle;\n",
       "    }\n",
       "\n",
       "    .dataframe tbody tr th {\n",
       "        vertical-align: top;\n",
       "    }\n",
       "\n",
       "    .dataframe thead th {\n",
       "        text-align: right;\n",
       "    }\n",
       "</style>\n",
       "<table border=\"1\" class=\"dataframe\">\n",
       "  <thead>\n",
       "    <tr style=\"text-align: right;\">\n",
       "      <th></th>\n",
       "      <th>sex</th>\n",
       "      <th>cp</th>\n",
       "      <th>fbs</th>\n",
       "      <th>restecg</th>\n",
       "    </tr>\n",
       "  </thead>\n",
       "  <tbody>\n",
       "    <tr>\n",
       "      <th>26</th>\n",
       "      <td>1</td>\n",
       "      <td>2</td>\n",
       "      <td>1</td>\n",
       "      <td>1</td>\n",
       "    </tr>\n",
       "    <tr>\n",
       "      <th>86</th>\n",
       "      <td>1</td>\n",
       "      <td>0</td>\n",
       "      <td>0</td>\n",
       "      <td>0</td>\n",
       "    </tr>\n",
       "    <tr>\n",
       "      <th>2</th>\n",
       "      <td>0</td>\n",
       "      <td>1</td>\n",
       "      <td>0</td>\n",
       "      <td>0</td>\n",
       "    </tr>\n",
       "    <tr>\n",
       "      <th>55</th>\n",
       "      <td>1</td>\n",
       "      <td>2</td>\n",
       "      <td>1</td>\n",
       "      <td>0</td>\n",
       "    </tr>\n",
       "    <tr>\n",
       "      <th>75</th>\n",
       "      <td>0</td>\n",
       "      <td>0</td>\n",
       "      <td>0</td>\n",
       "      <td>1</td>\n",
       "    </tr>\n",
       "  </tbody>\n",
       "</table>\n",
       "</div>"
      ],
      "text/plain": [
       "    sex  cp  fbs  restecg\n",
       "26    1   2    1        1\n",
       "86    1   0    0        0\n",
       "2     0   1    0        0\n",
       "55    1   2    1        0\n",
       "75    0   0    0        1"
      ]
     },
     "execution_count": 189,
     "metadata": {},
     "output_type": "execute_result"
    }
   ],
   "source": [
    "test_x = testing_data.iloc[:, :-1]\n",
    "test_x.head()"
   ]
  },
  {
   "cell_type": "code",
   "execution_count": 190,
   "id": "cf11c287",
   "metadata": {},
   "outputs": [
    {
     "data": {
      "text/plain": [
       "26    1\n",
       "86    0\n",
       "2     1\n",
       "55    0\n",
       "75    0\n",
       "Name: target, dtype: int64"
      ]
     },
     "execution_count": 190,
     "metadata": {},
     "output_type": "execute_result"
    }
   ],
   "source": [
    "test_y = testing_data.iloc[:, -1]\n",
    "test_y.head()"
   ]
  },
  {
   "cell_type": "markdown",
   "id": "a075e5f8",
   "metadata": {},
   "source": [
    "#### Loading Model"
   ]
  },
  {
   "cell_type": "code",
   "execution_count": 191,
   "id": "83009dd3",
   "metadata": {},
   "outputs": [],
   "source": [
    "# Load saved Model\n",
    "model = pickle.load(open('model_svc.pkl', 'rb'))"
   ]
  },
  {
   "cell_type": "markdown",
   "id": "4bbab18e",
   "metadata": {},
   "source": [
    "#### Evaluating Model"
   ]
  },
  {
   "cell_type": "code",
   "execution_count": 192,
   "id": "ed762f6f",
   "metadata": {},
   "outputs": [],
   "source": [
    "model_predictions = model.predict(test_x)\n",
    "\n",
    "testing_data_prediction = testing_data.copy(deep=True)\n",
    "pd.options.mode.chained_assignment = None\n",
    "\n",
    "testing_data_prediction['Prediction'] = model_predictions"
   ]
  },
  {
   "cell_type": "code",
   "execution_count": 193,
   "id": "b882bf0b",
   "metadata": {},
   "outputs": [
    {
     "name": "stdout",
     "output_type": "stream",
     "text": [
      "-- Testing Data with Prediction --\n",
      "    sex  cp  fbs  restecg  target  Prediction\n",
      "26    1   2    1        1       1           1\n",
      "86    1   0    0        0       0           0\n",
      "2     0   1    0        0       1           1\n",
      "55    1   2    1        0       0           1\n",
      "75    0   0    0        1       0           0\n",
      "93    1   2    0        1       0           1\n",
      "16    0   2    0        1       1           1\n",
      "73    1   2    0        1       0           1\n",
      "54    1   0    1        0       0           0\n",
      "95    1   2    0        0       0           1\n",
      "53    1   0    0        0       0           0\n",
      "92    0   0    0        0       0           0\n",
      "78    1   0    0        0       0           0\n",
      "13    1   3    0        0       1           1\n",
      "7     1   1    0        1       1           1\n",
      "30    0   1    0        1       1           1\n",
      "22    1   0    0        1       1           0\n",
      "24    1   3    0        1       1           1\n",
      "33    1   2    0        0       1           1\n",
      "8     1   2    1        1       1           1\n"
     ]
    }
   ],
   "source": [
    "# Printing Testing Data\n",
    "print(\"-- Testing Data with Prediction --\")\n",
    "pd.set_option(\"display.max_rows\", None, \"display.max_columns\", None)\n",
    "print(testing_data_prediction)"
   ]
  },
  {
   "cell_type": "code",
   "execution_count": 194,
   "id": "412811a6",
   "metadata": {},
   "outputs": [],
   "source": [
    "# Saving Prediction into a CSV file\n",
    "testing_data_prediction.to_csv(r'model_prediction.csv', index=False, header=True)"
   ]
  },
  {
   "cell_type": "code",
   "execution_count": 195,
   "id": "b4faa7e8",
   "metadata": {},
   "outputs": [
    {
     "name": "stdout",
     "output_type": "stream",
     "text": [
      "-- Model Accuracy Score: 0.75\n"
     ]
    }
   ],
   "source": [
    "# Calculating Accuracy\n",
    "model_accuracy_score = accuracy_score(testing_data_prediction['target'], testing_data_prediction['Prediction'])\n",
    "\n",
    "print(\"-- Model Accuracy Score: \", end='')\n",
    "print(round(model_accuracy_score,3))"
   ]
  },
  {
   "cell_type": "markdown",
   "id": "a0b64df3",
   "metadata": {},
   "source": [
    "# Evaluating on Unseen Data (Application Phase)"
   ]
  },
  {
   "cell_type": "markdown",
   "id": "9f0cf88f",
   "metadata": {},
   "source": [
    "<div class=\"alert alert-block alert-info\">\n",
    "    Testing on Unseen Data (realtime/userinput).\n",
    "</div>"
   ]
  },
  {
   "cell_type": "code",
   "execution_count": 206,
   "id": "7d3769ba",
   "metadata": {},
   "outputs": [
    {
     "name": "stdout",
     "output_type": "stream",
     "text": [
      "-- Take Input --\n",
      "-- Please Enter Gender (1=Male, 0=Female) :1\n",
      "-- Please Enter Chest Pain type (0, 1, 2, 3) :0\n",
      "-- Please Enter If Fasting Blood Sugar > 120 mg/dl (1 = true, 0 = false) :0\n",
      "-- Please Enter Resting Electrocardiographic Results (0 = normal, 1 = having ST-T wave abnormality, 2 = showing probable or definite left ventricular hypertrophy) :0\n"
     ]
    }
   ],
   "source": [
    "print(\"-- Take Input --\")\n",
    "sex_inp      = input(\"-- Please Enter Gender (1=Male, 0=Female) :\").strip()\n",
    "cp_inp      = input(\"-- Please Enter Chest Pain type (0, 1, 2, 3) :\").strip()\n",
    "fbs_inp    = input(\"-- Please Enter If Fasting Blood Sugar > 120 mg/dl (1 = true, 0 = false) :\").strip()\n",
    "restecg_inp    = input(\"-- Please Enter Resting Electrocardiographic Results (0 = normal, 1 = having ST-T wave abnormality, 2 = showing probable or definite left ventricular hypertrophy) :\").strip()\n"
   ]
  },
  {
   "cell_type": "code",
   "execution_count": 207,
   "id": "070b3b1e",
   "metadata": {},
   "outputs": [
    {
     "name": "stdout",
     "output_type": "stream",
     "text": [
      "-- User Inputs are: \n",
      "  sex cp fbs restecg\n",
      "0   1  0   0       0\n"
     ]
    }
   ],
   "source": [
    "# Convert Input into Feature Vector\n",
    "user_inp = pd.DataFrame({\n",
    "    'sex':   [sex_inp],\n",
    "    'cp':      [cp_inp],\n",
    "    'fbs':      [fbs_inp],\n",
    "    'restecg':    [restecg_inp]\n",
    "})\n",
    "\n",
    "print(\"-- User Inputs are: \")\n",
    "print(user_inp)"
   ]
  },
  {
   "cell_type": "code",
   "execution_count": 208,
   "id": "f34bc7ba",
   "metadata": {},
   "outputs": [],
   "source": [
    "# Loading Saved SVC Model\n",
    "model = pickle.load(open('model_svc.pkl', 'rb'))"
   ]
  },
  {
   "cell_type": "code",
   "execution_count": 209,
   "id": "ef4cf9fc",
   "metadata": {},
   "outputs": [
    {
     "name": "stdout",
     "output_type": "stream",
     "text": [
      "-- Prediction: You don't have Heart Disease\n"
     ]
    }
   ],
   "source": [
    "# Prediction on Unseen Data\n",
    "predicted_Presence = model.predict(user_inp)\n",
    "if(predicted_Presence == 1):\n",
    "    prediction = 'You have Heart Disease'\n",
    "elif(predicted_Presence == 0):\n",
    "    prediction = \"You don't have Heart Disease\"\n",
    "\n",
    "\n",
    "print(\"-- Prediction: \", end='')\n",
    "print(prediction)"
   ]
  },
  {
   "cell_type": "code",
   "execution_count": null,
   "id": "7425cf3b",
   "metadata": {},
   "outputs": [],
   "source": []
  }
 ],
 "metadata": {
  "kernelspec": {
   "display_name": "Python 3 (ipykernel)",
   "language": "python",
   "name": "python3"
  },
  "language_info": {
   "codemirror_mode": {
    "name": "ipython",
    "version": 3
   },
   "file_extension": ".py",
   "mimetype": "text/x-python",
   "name": "python",
   "nbconvert_exporter": "python",
   "pygments_lexer": "ipython3",
   "version": "3.8.18"
  },
  "vscode": {
   "interpreter": {
    "hash": "d77e5643c4104dda41be4a38244d5f78b6f5feed8de8198314d5a954004f00c9"
   }
  }
 },
 "nbformat": 4,
 "nbformat_minor": 5
}
